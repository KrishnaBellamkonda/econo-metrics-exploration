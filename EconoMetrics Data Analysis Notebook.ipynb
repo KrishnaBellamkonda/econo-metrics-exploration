{
 "cells": [
  {
   "cell_type": "markdown",
   "metadata": {},
   "source": [
    "# Econometrics Data Analysis\n",
    "**Aim**\n",
    "Figure out ways to solve the following sections in web App \n",
    "* Quick Facts\n",
    "* World at a Glance\n",
    "* Popular & Unpopular Section\n",
    "* In-depth Analysis of Each country\n",
    "* Extra features\n",
    "  * Outlier Detection to figure out countries with odd fortunes in popular indicators\n",
    "  * Neural Network Detection for prediction future GDP or other important indicator ()\n",
    "  \n",
    "-----------Visualizations----------------\n",
    "* Make visualization template functions and re-reun the notebook to save the pictures"
   ]
  },
  {
   "cell_type": "code",
   "execution_count": 3,
   "metadata": {},
   "outputs": [],
   "source": [
    "# Import \n",
    "import numpy as np \n",
    "import pandas as pd\n",
    "import seaborn as sns\n",
    "import matplotlib as mpl \n",
    "import matplotlib.pyplot as mpl"
   ]
  },
  {
   "cell_type": "code",
   "execution_count": 4,
   "metadata": {},
   "outputs": [],
   "source": [
    "# source\n",
    "source =  \"./dataset/world_bank_indicators/WDI_csv/WDIData.csv\""
   ]
  },
  {
   "cell_type": "code",
   "execution_count": 5,
   "metadata": {},
   "outputs": [],
   "source": [
    "# ACTIONS \n",
    "# have the column names defined in a dictionary to avoid copy pastes\n",
    "indicator_name=\"Indicator Name\" \n",
    "indicator_code=\"Indicator Code\"\n",
    "country=\"Country Name\"\n",
    "country_code=\"Country Code\" \n",
    "    \n"
   ]
  },
  {
   "cell_type": "code",
   "execution_count": 6,
   "metadata": {
    "collapsed": true
   },
   "outputs": [
    {
     "data": {
      "text/html": [
       "<div>\n",
       "<style scoped>\n",
       "    .dataframe tbody tr th:only-of-type {\n",
       "        vertical-align: middle;\n",
       "    }\n",
       "\n",
       "    .dataframe tbody tr th {\n",
       "        vertical-align: top;\n",
       "    }\n",
       "\n",
       "    .dataframe thead th {\n",
       "        text-align: right;\n",
       "    }\n",
       "</style>\n",
       "<table border=\"1\" class=\"dataframe\">\n",
       "  <thead>\n",
       "    <tr style=\"text-align: right;\">\n",
       "      <th></th>\n",
       "      <th>Country Name</th>\n",
       "      <th>Country Code</th>\n",
       "      <th>Indicator Name</th>\n",
       "      <th>Indicator Code</th>\n",
       "      <th>1960</th>\n",
       "      <th>1961</th>\n",
       "      <th>1962</th>\n",
       "      <th>1963</th>\n",
       "      <th>1964</th>\n",
       "      <th>1965</th>\n",
       "      <th>...</th>\n",
       "      <th>2012</th>\n",
       "      <th>2013</th>\n",
       "      <th>2014</th>\n",
       "      <th>2015</th>\n",
       "      <th>2016</th>\n",
       "      <th>2017</th>\n",
       "      <th>2018</th>\n",
       "      <th>2019</th>\n",
       "      <th>2020</th>\n",
       "      <th>Unnamed: 65</th>\n",
       "    </tr>\n",
       "  </thead>\n",
       "  <tbody>\n",
       "    <tr>\n",
       "      <th>0</th>\n",
       "      <td>Arab World</td>\n",
       "      <td>ARB</td>\n",
       "      <td>Access to clean fuels and technologies for coo...</td>\n",
       "      <td>EG.CFT.ACCS.ZS</td>\n",
       "      <td>NaN</td>\n",
       "      <td>NaN</td>\n",
       "      <td>NaN</td>\n",
       "      <td>NaN</td>\n",
       "      <td>NaN</td>\n",
       "      <td>NaN</td>\n",
       "      <td>...</td>\n",
       "      <td>83.120303</td>\n",
       "      <td>83.533457</td>\n",
       "      <td>83.897596</td>\n",
       "      <td>84.171599</td>\n",
       "      <td>84.510171</td>\n",
       "      <td>NaN</td>\n",
       "      <td>NaN</td>\n",
       "      <td>NaN</td>\n",
       "      <td>NaN</td>\n",
       "      <td>NaN</td>\n",
       "    </tr>\n",
       "    <tr>\n",
       "      <th>1</th>\n",
       "      <td>Arab World</td>\n",
       "      <td>ARB</td>\n",
       "      <td>Access to electricity (% of population)</td>\n",
       "      <td>EG.ELC.ACCS.ZS</td>\n",
       "      <td>NaN</td>\n",
       "      <td>NaN</td>\n",
       "      <td>NaN</td>\n",
       "      <td>NaN</td>\n",
       "      <td>NaN</td>\n",
       "      <td>NaN</td>\n",
       "      <td>...</td>\n",
       "      <td>87.512260</td>\n",
       "      <td>88.129881</td>\n",
       "      <td>87.275323</td>\n",
       "      <td>88.720097</td>\n",
       "      <td>89.308602</td>\n",
       "      <td>90.283638</td>\n",
       "      <td>89.286856</td>\n",
       "      <td>NaN</td>\n",
       "      <td>NaN</td>\n",
       "      <td>NaN</td>\n",
       "    </tr>\n",
       "    <tr>\n",
       "      <th>2</th>\n",
       "      <td>Arab World</td>\n",
       "      <td>ARB</td>\n",
       "      <td>Access to electricity, rural (% of rural popul...</td>\n",
       "      <td>EG.ELC.ACCS.RU.ZS</td>\n",
       "      <td>NaN</td>\n",
       "      <td>NaN</td>\n",
       "      <td>NaN</td>\n",
       "      <td>NaN</td>\n",
       "      <td>NaN</td>\n",
       "      <td>NaN</td>\n",
       "      <td>...</td>\n",
       "      <td>77.251714</td>\n",
       "      <td>78.165706</td>\n",
       "      <td>75.512153</td>\n",
       "      <td>78.211000</td>\n",
       "      <td>79.065508</td>\n",
       "      <td>81.102134</td>\n",
       "      <td>79.248100</td>\n",
       "      <td>NaN</td>\n",
       "      <td>NaN</td>\n",
       "      <td>NaN</td>\n",
       "    </tr>\n",
       "    <tr>\n",
       "      <th>3</th>\n",
       "      <td>Arab World</td>\n",
       "      <td>ARB</td>\n",
       "      <td>Access to electricity, urban (% of urban popul...</td>\n",
       "      <td>EG.ELC.ACCS.UR.ZS</td>\n",
       "      <td>NaN</td>\n",
       "      <td>NaN</td>\n",
       "      <td>NaN</td>\n",
       "      <td>NaN</td>\n",
       "      <td>NaN</td>\n",
       "      <td>NaN</td>\n",
       "      <td>...</td>\n",
       "      <td>96.435957</td>\n",
       "      <td>96.772853</td>\n",
       "      <td>96.466705</td>\n",
       "      <td>96.936319</td>\n",
       "      <td>97.290083</td>\n",
       "      <td>97.467915</td>\n",
       "      <td>97.063959</td>\n",
       "      <td>NaN</td>\n",
       "      <td>NaN</td>\n",
       "      <td>NaN</td>\n",
       "    </tr>\n",
       "    <tr>\n",
       "      <th>4</th>\n",
       "      <td>Arab World</td>\n",
       "      <td>ARB</td>\n",
       "      <td>Account ownership at a financial institution o...</td>\n",
       "      <td>FX.OWN.TOTL.ZS</td>\n",
       "      <td>NaN</td>\n",
       "      <td>NaN</td>\n",
       "      <td>NaN</td>\n",
       "      <td>NaN</td>\n",
       "      <td>NaN</td>\n",
       "      <td>NaN</td>\n",
       "      <td>...</td>\n",
       "      <td>NaN</td>\n",
       "      <td>NaN</td>\n",
       "      <td>30.277130</td>\n",
       "      <td>NaN</td>\n",
       "      <td>NaN</td>\n",
       "      <td>37.165211</td>\n",
       "      <td>NaN</td>\n",
       "      <td>NaN</td>\n",
       "      <td>NaN</td>\n",
       "      <td>NaN</td>\n",
       "    </tr>\n",
       "  </tbody>\n",
       "</table>\n",
       "<p>5 rows × 66 columns</p>\n",
       "</div>"
      ],
      "text/plain": [
       "  Country Name Country Code  \\\n",
       "0   Arab World          ARB   \n",
       "1   Arab World          ARB   \n",
       "2   Arab World          ARB   \n",
       "3   Arab World          ARB   \n",
       "4   Arab World          ARB   \n",
       "\n",
       "                                      Indicator Name     Indicator Code  1960  \\\n",
       "0  Access to clean fuels and technologies for coo...     EG.CFT.ACCS.ZS   NaN   \n",
       "1            Access to electricity (% of population)     EG.ELC.ACCS.ZS   NaN   \n",
       "2  Access to electricity, rural (% of rural popul...  EG.ELC.ACCS.RU.ZS   NaN   \n",
       "3  Access to electricity, urban (% of urban popul...  EG.ELC.ACCS.UR.ZS   NaN   \n",
       "4  Account ownership at a financial institution o...     FX.OWN.TOTL.ZS   NaN   \n",
       "\n",
       "   1961  1962  1963  1964  1965  ...       2012       2013       2014  \\\n",
       "0   NaN   NaN   NaN   NaN   NaN  ...  83.120303  83.533457  83.897596   \n",
       "1   NaN   NaN   NaN   NaN   NaN  ...  87.512260  88.129881  87.275323   \n",
       "2   NaN   NaN   NaN   NaN   NaN  ...  77.251714  78.165706  75.512153   \n",
       "3   NaN   NaN   NaN   NaN   NaN  ...  96.435957  96.772853  96.466705   \n",
       "4   NaN   NaN   NaN   NaN   NaN  ...        NaN        NaN  30.277130   \n",
       "\n",
       "        2015       2016       2017       2018  2019  2020  Unnamed: 65  \n",
       "0  84.171599  84.510171        NaN        NaN   NaN   NaN          NaN  \n",
       "1  88.720097  89.308602  90.283638  89.286856   NaN   NaN          NaN  \n",
       "2  78.211000  79.065508  81.102134  79.248100   NaN   NaN          NaN  \n",
       "3  96.936319  97.290083  97.467915  97.063959   NaN   NaN          NaN  \n",
       "4        NaN        NaN  37.165211        NaN   NaN   NaN          NaN  \n",
       "\n",
       "[5 rows x 66 columns]"
      ]
     },
     "execution_count": 6,
     "metadata": {},
     "output_type": "execute_result"
    }
   ],
   "source": [
    "# Reading the CSV\n",
    "df = pd.read_csv(source)\n",
    "df.head()"
   ]
  },
  {
   "cell_type": "code",
   "execution_count": 7,
   "metadata": {},
   "outputs": [],
   "source": [
    "# Countries Mask \n",
    "import json \n",
    "countries_only_path = \"./queries/countriesOnlyIds.json\"\n",
    "with open(countries_only_path) as fp:\n",
    "    json_data = fp.read()\n",
    "    countries_only_dict = json.loads(json_data, encoding=\"utf-8\")\n",
    "\n",
    "country_only_mask = df[\"Country Code\"].isin(countries_only_dict)"
   ]
  },
  {
   "cell_type": "markdown",
   "metadata": {},
   "source": [
    "### Countries Only IDs"
   ]
  },
  {
   "cell_type": "code",
   "execution_count": 8,
   "metadata": {},
   "outputs": [],
   "source": [
    "country_names = df[country_only_mask][country].unique()\n",
    "country_name_to_ids = {}\n",
    "for country_name in country_names:\n",
    "    country_mask = df[country] == country_name\n",
    "    country_id = df[country_mask][country_code].unique()[0]\n",
    "    country_name_to_ids[country_id] = country_name"
   ]
  },
  {
   "cell_type": "code",
   "execution_count": 9,
   "metadata": {
    "collapsed": true
   },
   "outputs": [
    {
     "data": {
      "text/plain": [
       "{'AFG': 'Afghanistan',\n",
       " 'ALB': 'Albania',\n",
       " 'DZA': 'Algeria',\n",
       " 'ASM': 'American Samoa',\n",
       " 'AND': 'Andorra',\n",
       " 'AGO': 'Angola',\n",
       " 'ATG': 'Antigua and Barbuda',\n",
       " 'ARG': 'Argentina',\n",
       " 'ARM': 'Armenia',\n",
       " 'ABW': 'Aruba',\n",
       " 'AUS': 'Australia',\n",
       " 'AUT': 'Austria',\n",
       " 'AZE': 'Azerbaijan',\n",
       " 'BHS': 'Bahamas, The',\n",
       " 'BHR': 'Bahrain',\n",
       " 'BGD': 'Bangladesh',\n",
       " 'BRB': 'Barbados',\n",
       " 'BLR': 'Belarus',\n",
       " 'BEL': 'Belgium',\n",
       " 'BLZ': 'Belize',\n",
       " 'BEN': 'Benin',\n",
       " 'BMU': 'Bermuda',\n",
       " 'BTN': 'Bhutan',\n",
       " 'BOL': 'Bolivia',\n",
       " 'BIH': 'Bosnia and Herzegovina',\n",
       " 'BWA': 'Botswana',\n",
       " 'BRA': 'Brazil',\n",
       " 'VGB': 'British Virgin Islands',\n",
       " 'BRN': 'Brunei Darussalam',\n",
       " 'BGR': 'Bulgaria',\n",
       " 'BFA': 'Burkina Faso',\n",
       " 'BDI': 'Burundi',\n",
       " 'CPV': 'Cabo Verde',\n",
       " 'KHM': 'Cambodia',\n",
       " 'CMR': 'Cameroon',\n",
       " 'CAN': 'Canada',\n",
       " 'CYM': 'Cayman Islands',\n",
       " 'CAF': 'Central African Republic',\n",
       " 'TCD': 'Chad',\n",
       " 'CHI': 'Channel Islands',\n",
       " 'CHL': 'Chile',\n",
       " 'CHN': 'China',\n",
       " 'COL': 'Colombia',\n",
       " 'COM': 'Comoros',\n",
       " 'COD': 'Congo, Dem. Rep.',\n",
       " 'COG': 'Congo, Rep.',\n",
       " 'CRI': 'Costa Rica',\n",
       " 'CIV': \"Cote d'Ivoire\",\n",
       " 'HRV': 'Croatia',\n",
       " 'CUB': 'Cuba',\n",
       " 'CUW': 'Curacao',\n",
       " 'CYP': 'Cyprus',\n",
       " 'CZE': 'Czech Republic',\n",
       " 'DNK': 'Denmark',\n",
       " 'DJI': 'Djibouti',\n",
       " 'DMA': 'Dominica',\n",
       " 'DOM': 'Dominican Republic',\n",
       " 'ECU': 'Ecuador',\n",
       " 'EGY': 'Egypt, Arab Rep.',\n",
       " 'SLV': 'El Salvador',\n",
       " 'GNQ': 'Equatorial Guinea',\n",
       " 'ERI': 'Eritrea',\n",
       " 'EST': 'Estonia',\n",
       " 'SWZ': 'Eswatini',\n",
       " 'ETH': 'Ethiopia',\n",
       " 'FRO': 'Faroe Islands',\n",
       " 'FJI': 'Fiji',\n",
       " 'FIN': 'Finland',\n",
       " 'FRA': 'France',\n",
       " 'PYF': 'French Polynesia',\n",
       " 'GAB': 'Gabon',\n",
       " 'GMB': 'Gambia, The',\n",
       " 'GEO': 'Georgia',\n",
       " 'DEU': 'Germany',\n",
       " 'GHA': 'Ghana',\n",
       " 'GIB': 'Gibraltar',\n",
       " 'GRC': 'Greece',\n",
       " 'GRL': 'Greenland',\n",
       " 'GRD': 'Grenada',\n",
       " 'GUM': 'Guam',\n",
       " 'GTM': 'Guatemala',\n",
       " 'GIN': 'Guinea',\n",
       " 'GNB': 'Guinea-Bissau',\n",
       " 'GUY': 'Guyana',\n",
       " 'HTI': 'Haiti',\n",
       " 'HND': 'Honduras',\n",
       " 'HKG': 'Hong Kong SAR, China',\n",
       " 'HUN': 'Hungary',\n",
       " 'ISL': 'Iceland',\n",
       " 'IND': 'India',\n",
       " 'IDN': 'Indonesia',\n",
       " 'IRN': 'Iran, Islamic Rep.',\n",
       " 'IRQ': 'Iraq',\n",
       " 'IRL': 'Ireland',\n",
       " 'IMN': 'Isle of Man',\n",
       " 'ISR': 'Israel',\n",
       " 'ITA': 'Italy',\n",
       " 'JAM': 'Jamaica',\n",
       " 'JPN': 'Japan',\n",
       " 'JOR': 'Jordan',\n",
       " 'KAZ': 'Kazakhstan',\n",
       " 'KEN': 'Kenya',\n",
       " 'KIR': 'Kiribati',\n",
       " 'PRK': 'Korea, Dem. People’s Rep.',\n",
       " 'KOR': 'Korea, Rep.',\n",
       " 'XKX': 'Kosovo',\n",
       " 'KWT': 'Kuwait',\n",
       " 'KGZ': 'Kyrgyz Republic',\n",
       " 'LAO': 'Lao PDR',\n",
       " 'LVA': 'Latvia',\n",
       " 'LBN': 'Lebanon',\n",
       " 'LSO': 'Lesotho',\n",
       " 'LBR': 'Liberia',\n",
       " 'LBY': 'Libya',\n",
       " 'LIE': 'Liechtenstein',\n",
       " 'LTU': 'Lithuania',\n",
       " 'LUX': 'Luxembourg',\n",
       " 'MAC': 'Macao SAR, China',\n",
       " 'MDG': 'Madagascar',\n",
       " 'MWI': 'Malawi',\n",
       " 'MYS': 'Malaysia',\n",
       " 'MDV': 'Maldives',\n",
       " 'MLI': 'Mali',\n",
       " 'MLT': 'Malta',\n",
       " 'MHL': 'Marshall Islands',\n",
       " 'MRT': 'Mauritania',\n",
       " 'MUS': 'Mauritius',\n",
       " 'MEX': 'Mexico',\n",
       " 'FSM': 'Micronesia, Fed. Sts.',\n",
       " 'MDA': 'Moldova',\n",
       " 'MCO': 'Monaco',\n",
       " 'MNG': 'Mongolia',\n",
       " 'MNE': 'Montenegro',\n",
       " 'MAR': 'Morocco',\n",
       " 'MOZ': 'Mozambique',\n",
       " 'MMR': 'Myanmar',\n",
       " 'NAM': 'Namibia',\n",
       " 'NRU': 'Nauru',\n",
       " 'NPL': 'Nepal',\n",
       " 'NLD': 'Netherlands',\n",
       " 'NCL': 'New Caledonia',\n",
       " 'NZL': 'New Zealand',\n",
       " 'NIC': 'Nicaragua',\n",
       " 'NER': 'Niger',\n",
       " 'NGA': 'Nigeria',\n",
       " 'MKD': 'North Macedonia',\n",
       " 'MNP': 'Northern Mariana Islands',\n",
       " 'NOR': 'Norway',\n",
       " 'OMN': 'Oman',\n",
       " 'PAK': 'Pakistan',\n",
       " 'PLW': 'Palau',\n",
       " 'PAN': 'Panama',\n",
       " 'PNG': 'Papua New Guinea',\n",
       " 'PRY': 'Paraguay',\n",
       " 'PER': 'Peru',\n",
       " 'PHL': 'Philippines',\n",
       " 'POL': 'Poland',\n",
       " 'PRT': 'Portugal',\n",
       " 'PRI': 'Puerto Rico',\n",
       " 'QAT': 'Qatar',\n",
       " 'ROU': 'Romania',\n",
       " 'RUS': 'Russian Federation',\n",
       " 'RWA': 'Rwanda',\n",
       " 'WSM': 'Samoa',\n",
       " 'SMR': 'San Marino',\n",
       " 'STP': 'Sao Tome and Principe',\n",
       " 'SAU': 'Saudi Arabia',\n",
       " 'SEN': 'Senegal',\n",
       " 'SRB': 'Serbia',\n",
       " 'SYC': 'Seychelles',\n",
       " 'SLE': 'Sierra Leone',\n",
       " 'SGP': 'Singapore',\n",
       " 'SXM': 'Sint Maarten (Dutch part)',\n",
       " 'SVK': 'Slovak Republic',\n",
       " 'SVN': 'Slovenia',\n",
       " 'SLB': 'Solomon Islands',\n",
       " 'SOM': 'Somalia',\n",
       " 'ZAF': 'South Africa',\n",
       " 'SSD': 'South Sudan',\n",
       " 'ESP': 'Spain',\n",
       " 'LKA': 'Sri Lanka',\n",
       " 'KNA': 'St. Kitts and Nevis',\n",
       " 'LCA': 'St. Lucia',\n",
       " 'MAF': 'St. Martin (French part)',\n",
       " 'VCT': 'St. Vincent and the Grenadines',\n",
       " 'SDN': 'Sudan',\n",
       " 'SUR': 'Suriname',\n",
       " 'SWE': 'Sweden',\n",
       " 'CHE': 'Switzerland',\n",
       " 'SYR': 'Syrian Arab Republic',\n",
       " 'TJK': 'Tajikistan',\n",
       " 'TZA': 'Tanzania',\n",
       " 'THA': 'Thailand',\n",
       " 'TLS': 'Timor-Leste',\n",
       " 'TGO': 'Togo',\n",
       " 'TON': 'Tonga',\n",
       " 'TTO': 'Trinidad and Tobago',\n",
       " 'TUN': 'Tunisia',\n",
       " 'TUR': 'Turkey',\n",
       " 'TKM': 'Turkmenistan',\n",
       " 'TCA': 'Turks and Caicos Islands',\n",
       " 'TUV': 'Tuvalu',\n",
       " 'UGA': 'Uganda',\n",
       " 'UKR': 'Ukraine',\n",
       " 'ARE': 'United Arab Emirates',\n",
       " 'GBR': 'United Kingdom',\n",
       " 'USA': 'United States',\n",
       " 'URY': 'Uruguay',\n",
       " 'UZB': 'Uzbekistan',\n",
       " 'VUT': 'Vanuatu',\n",
       " 'VEN': 'Venezuela, RB',\n",
       " 'VNM': 'Vietnam',\n",
       " 'VIR': 'Virgin Islands (U.S.)',\n",
       " 'PSE': 'West Bank and Gaza',\n",
       " 'YEM': 'Yemen, Rep.',\n",
       " 'ZMB': 'Zambia',\n",
       " 'ZWE': 'Zimbabwe'}"
      ]
     },
     "execution_count": 9,
     "metadata": {},
     "output_type": "execute_result"
    }
   ],
   "source": [
    "country_name_to_ids"
   ]
  },
  {
   "cell_type": "code",
   "execution_count": 10,
   "metadata": {},
   "outputs": [],
   "source": [
    "import json\n",
    "with open(\"./queries/COUNTRIES_ONLY_CODE_TO_NAME.json\", \"w\") as fp:\n",
    "    json.dump(country_name_to_ids, fp)"
   ]
  },
  {
   "cell_type": "code",
   "execution_count": 11,
   "metadata": {},
   "outputs": [],
   "source": [
    "# Years mask \n",
    "years = ['1960', '1961', '1962', '1963', '1964', '1965', '1966', '1967', '1968',\n",
    "       '1969', '1970', '1971', '1972', '1973', '1974', '1975', '1976', '1977',\n",
    "       '1978', '1979', '1980', '1981', '1982', '1983', '1984', '1985', '1986',\n",
    "       '1987', '1988', '1989', '1990', '1991', '1992', '1993', '1994', '1995',\n",
    "       '1996', '1997', '1998', '1999', '2000', '2001', '2002', '2003', '2004',\n",
    "       '2005', '2006', '2007', '2008', '2009', '2010', '2011', '2012', '2013',\n",
    "       '2014', '2015', '2016', '2017', '2018', '2019']"
   ]
  },
  {
   "cell_type": "markdown",
   "metadata": {},
   "source": [
    "## Quick Facts\n",
    "What could be the some important indicator that are worth displaying?\n",
    "* Possible Indicators\n",
    "    * Gender ()\n",
    "    * GDP growth (%annual Income)\n",
    "    * Inflation ?\n",
    "Is there enough data for thee facts to be correct?\n"
   ]
  },
  {
   "cell_type": "code",
   "execution_count": 12,
   "metadata": {},
   "outputs": [
    {
     "data": {
      "text/plain": [
       "269         CPIA gender equality rating (1=low to 6=high)\n",
       "704     Literacy rate, youth (ages 15-24), gender pari...\n",
       "1199    School enrollment, primary (gross), gender par...\n",
       "1200    School enrollment, primary and secondary (gros...\n",
       "1208    School enrollment, secondary (gross), gender p...\n",
       "1215    School enrollment, tertiary (gross), gender pa...\n",
       "dtype: object"
      ]
     },
     "execution_count": 12,
     "metadata": {},
     "output_type": "execute_result"
    }
   ],
   "source": [
    "series_names = pd.Series(df[indicator_name].unique())\n",
    "series_contains_gender = series_names.str.contains(r'gender')\n",
    "gender_indices = np.nonzero(series_contains_gender.to_numpy())\n",
    "series_names[gender_indices[0]]"
   ]
  },
  {
   "cell_type": "markdown",
   "metadata": {},
   "source": [
    "***Gender Indicators***\n",
    "* CPIA Gender Equality -> Asseses the extent to which the country has institutions promoting and enforcing gender laws (in education, health, economy, etc. )\n",
    "\n",
    "* Labor force, female (% of total labor force) -> Assess how much of the female population is actively listed in the working population\n",
    "\n",
    "* School enrollment, secondary, female (% gross) -> Assess the percentage of female population enrolling in secondary education\n",
    "\n",
    "**The above listed three indicators could be used for the Gender Section of Quick Facts**\n"
   ]
  },
  {
   "cell_type": "markdown",
   "metadata": {},
   "source": [
    "The Labor force indicator has been obtained by a quick search across the World Bank website"
   ]
  },
  {
   "cell_type": "code",
   "execution_count": 13,
   "metadata": {},
   "outputs": [],
   "source": [
    "# The Series Ids for these indicators \n",
    "gender_required_indicators = [\n",
    "    'CPIA gender equality rating (1=low to 6=high)', \n",
    "    'Labor force, female (% of total labor force)',\n",
    "    'School enrollment, secondary (gross), gender parity index (GPI)'    \n",
    "]"
   ]
  },
  {
   "cell_type": "code",
   "execution_count": 14,
   "metadata": {},
   "outputs": [
    {
     "data": {
      "text/plain": [
       "['IQ.CPA.GNDR.XQ', 'SL.TLF.TOTL.FE.ZS', 'SE.ENR.SECO.FM.ZS']"
      ]
     },
     "execution_count": 14,
     "metadata": {},
     "output_type": "execute_result"
    }
   ],
   "source": [
    "gender_requried_mask = df[indicator_name].isin(gender_required_indicators)\n",
    "gender_indicators_array = list(df[gender_requried_mask][indicator_code].unique())\n",
    "gender_indicators_array"
   ]
  },
  {
   "cell_type": "code",
   "execution_count": 15,
   "metadata": {},
   "outputs": [],
   "source": [
    "# Mask for Series Names \n",
    "# Gender Indicator 1\n",
    "gender_indicator_1_mask = df[indicator_name] == gender_required_indicators[0]\n",
    "df_gender_indicator_1 = df[gender_indicator_1_mask & country_only_mask] # Countries with only these indicators\n",
    "df_gender_indicator_1 = df_gender_indicator_1.set_index(country)"
   ]
  },
  {
   "cell_type": "code",
   "execution_count": 16,
   "metadata": {},
   "outputs": [],
   "source": [
    "# Find the largest positive and negative change in the last two years\n",
    "last_two_years = years[-2:]\n",
    "last_two_years_nan = df_gender_indicator_1[last_two_years].isna()\n",
    "last_two_years_no_nan = ~(last_two_years_nan[\"2018\"] & last_two_years_nan[\"2019\"])"
   ]
  },
  {
   "cell_type": "code",
   "execution_count": 17,
   "metadata": {},
   "outputs": [
    {
     "data": {
      "text/html": [
       "<div>\n",
       "<style scoped>\n",
       "    .dataframe tbody tr th:only-of-type {\n",
       "        vertical-align: middle;\n",
       "    }\n",
       "\n",
       "    .dataframe tbody tr th {\n",
       "        vertical-align: top;\n",
       "    }\n",
       "\n",
       "    .dataframe thead th {\n",
       "        text-align: right;\n",
       "    }\n",
       "</style>\n",
       "<table border=\"1\" class=\"dataframe\">\n",
       "  <thead>\n",
       "    <tr style=\"text-align: right;\">\n",
       "      <th></th>\n",
       "      <th>2018</th>\n",
       "      <th>2019</th>\n",
       "      <th>change_last_two_years</th>\n",
       "    </tr>\n",
       "    <tr>\n",
       "      <th>Country Name</th>\n",
       "      <th></th>\n",
       "      <th></th>\n",
       "      <th></th>\n",
       "    </tr>\n",
       "  </thead>\n",
       "  <tbody>\n",
       "    <tr>\n",
       "      <th>Kiribati</th>\n",
       "      <td>2.5</td>\n",
       "      <td>3.0</td>\n",
       "      <td>0.5</td>\n",
       "    </tr>\n",
       "    <tr>\n",
       "      <th>Micronesia, Fed. Sts.</th>\n",
       "      <td>2.5</td>\n",
       "      <td>3.0</td>\n",
       "      <td>0.5</td>\n",
       "    </tr>\n",
       "    <tr>\n",
       "      <th>Togo</th>\n",
       "      <td>3.0</td>\n",
       "      <td>3.5</td>\n",
       "      <td>0.5</td>\n",
       "    </tr>\n",
       "  </tbody>\n",
       "</table>\n",
       "</div>"
      ],
      "text/plain": [
       "                       2018  2019  change_last_two_years\n",
       "Country Name                                            \n",
       "Kiribati                2.5   3.0                    0.5\n",
       "Micronesia, Fed. Sts.   2.5   3.0                    0.5\n",
       "Togo                    3.0   3.5                    0.5"
      ]
     },
     "execution_count": 17,
     "metadata": {},
     "output_type": "execute_result"
    }
   ],
   "source": [
    "# Nan Clearing\n",
    "df_gender_indicator_1_non_nan = df_gender_indicator_1[last_two_years_no_nan][last_two_years]\n",
    "df_gender_indicator_1_non_nan[\"change_last_two_years\"] = df_gender_indicator_1_non_nan[\"2019\"] - df_gender_indicator_1_non_nan[\"2018\"]\n",
    "change_last_two_years = df_gender_indicator_1_non_nan[\"change_last_two_years\"]\n",
    "max_values = change_last_two_years.apply(lambda x: x==0.5)\n",
    "max_indices = np.nonzero(max_values.to_numpy())\n",
    "df_gender_indicator_1_non_nan.iloc[max_indices[0]]"
   ]
  },
  {
   "cell_type": "code",
   "execution_count": 18,
   "metadata": {},
   "outputs": [
    {
     "data": {
      "text/html": [
       "<div>\n",
       "<style scoped>\n",
       "    .dataframe tbody tr th:only-of-type {\n",
       "        vertical-align: middle;\n",
       "    }\n",
       "\n",
       "    .dataframe tbody tr th {\n",
       "        vertical-align: top;\n",
       "    }\n",
       "\n",
       "    .dataframe thead th {\n",
       "        text-align: right;\n",
       "    }\n",
       "</style>\n",
       "<table border=\"1\" class=\"dataframe\">\n",
       "  <thead>\n",
       "    <tr style=\"text-align: right;\">\n",
       "      <th></th>\n",
       "      <th>2018</th>\n",
       "      <th>2019</th>\n",
       "      <th>change_last_two_years</th>\n",
       "    </tr>\n",
       "  </thead>\n",
       "  <tbody>\n",
       "    <tr>\n",
       "      <th>66279</th>\n",
       "      <td>3.239726</td>\n",
       "      <td>3.253333</td>\n",
       "      <td>0.013607</td>\n",
       "    </tr>\n",
       "  </tbody>\n",
       "</table>\n",
       "</div>"
      ],
      "text/plain": [
       "           2018      2019  change_last_two_years\n",
       "66279  3.239726  3.253333               0.013607"
      ]
     },
     "execution_count": 18,
     "metadata": {},
     "output_type": "execute_result"
    }
   ],
   "source": [
    "# World Average \n",
    "world_mask = df[country_code] == \"WLD\"\n",
    "world_gender_indicator_1 = df[gender_indicator_1_mask & world_mask][last_two_years]\n",
    "world_gender_indicator_1[\"change_last_two_years\"] = world_gender_indicator_1[\"2019\"] - world_gender_indicator_1[\"2018\"]\n",
    "world_gender_indicator_1"
   ]
  },
  {
   "cell_type": "code",
   "execution_count": 19,
   "metadata": {},
   "outputs": [
    {
     "data": {
      "text/plain": [
       "(75, 3)"
      ]
     },
     "execution_count": 19,
     "metadata": {},
     "output_type": "execute_result"
    }
   ],
   "source": [
    "# Number of countries with reported values for CPIA Gender Equality \n",
    "df_gender_indicator_1_non_nan.shape # 75 countries with data"
   ]
  },
  {
   "cell_type": "markdown",
   "metadata": {},
   "source": [
    "**Quick Fact 1**:\n",
    "Out of the 75 countries that have reported data on CPIA Gender Equality, Kiribari, Micronesia and Togo hav seen the highest positive change increasing of 0.5. These oceanic countries have seen a spike these recent years. The biggest gainer is Togo whose CPIA grew from 3.0 to 3.5 while that of Kiribati and Microesia increased from 2.5 to 3.0. \n",
    "\n",
    "**World Average** is positive increase of 0.013 from 3.239 to 3.25\n",
    "\n",
    "**The reports have not seen any decrease**"
   ]
  },
  {
   "cell_type": "code",
   "execution_count": 20,
   "metadata": {},
   "outputs": [],
   "source": [
    "# Mask for Gender indicator 2\n",
    "gender_indicator_2_mask = df[indicator_name] == gender_required_indicators[1]\n",
    "df_gender_indicator_2 = df[gender_indicator_2_mask & country_only_mask] # Countries with only these indicators\n",
    "df_gender_indicator_2 = df_gender_indicator_2.set_index(country)"
   ]
  },
  {
   "cell_type": "code",
   "execution_count": 21,
   "metadata": {},
   "outputs": [],
   "source": [
    "# Nan Cleaning\n",
    "df_gender_indicator_2_non_nan = df_gender_indicator_2[last_two_years_no_nan][last_two_years]\n",
    "df_gender_indicator_2_non_nan[\"change_last_two_years\"] = df_gender_indicator_2_non_nan[\"2019\"] - df_gender_indicator_2_non_nan[\"2018\"]\n",
    "change_last_two_years = df_gender_indicator_2_non_nan[\"change_last_two_years\"]"
   ]
  },
  {
   "cell_type": "code",
   "execution_count": 22,
   "metadata": {},
   "outputs": [],
   "source": [
    "# Finding the highest positive change\n",
    "last_two_years_nan = df_gender_indicator_2[last_two_years].isna()\n",
    "last_two_years_no_nan = ~(last_two_years_nan[\"2018\"] & last_two_years_nan[\"2019\"])"
   ]
  },
  {
   "cell_type": "code",
   "execution_count": 23,
   "metadata": {},
   "outputs": [
    {
     "data": {
      "text/html": [
       "<div>\n",
       "<style scoped>\n",
       "    .dataframe tbody tr th:only-of-type {\n",
       "        vertical-align: middle;\n",
       "    }\n",
       "\n",
       "    .dataframe tbody tr th {\n",
       "        vertical-align: top;\n",
       "    }\n",
       "\n",
       "    .dataframe thead th {\n",
       "        text-align: right;\n",
       "    }\n",
       "</style>\n",
       "<table border=\"1\" class=\"dataframe\">\n",
       "  <thead>\n",
       "    <tr style=\"text-align: right;\">\n",
       "      <th></th>\n",
       "      <th>2018</th>\n",
       "      <th>2019</th>\n",
       "      <th>change_last_two_years</th>\n",
       "    </tr>\n",
       "    <tr>\n",
       "      <th>Country Name</th>\n",
       "      <th></th>\n",
       "      <th></th>\n",
       "      <th></th>\n",
       "    </tr>\n",
       "  </thead>\n",
       "  <tbody>\n",
       "    <tr>\n",
       "      <th>St. Lucia</th>\n",
       "      <td>47.423574</td>\n",
       "      <td>48.468342</td>\n",
       "      <td>1.044769</td>\n",
       "    </tr>\n",
       "  </tbody>\n",
       "</table>\n",
       "</div>"
      ],
      "text/plain": [
       "                   2018       2019  change_last_two_years\n",
       "Country Name                                             \n",
       "St. Lucia     47.423574  48.468342               1.044769"
      ]
     },
     "execution_count": 23,
     "metadata": {},
     "output_type": "execute_result"
    }
   ],
   "source": [
    "# Find the maximum change \n",
    "max_values = change_last_two_years.apply(lambda x: x==change_last_two_years.max())\n",
    "max_indices = np.nonzero(max_values.to_numpy())\n",
    "df_gender_indicator_2_non_nan.iloc[max_indices[0]]"
   ]
  },
  {
   "cell_type": "code",
   "execution_count": 24,
   "metadata": {},
   "outputs": [
    {
     "data": {
      "text/html": [
       "<div>\n",
       "<style scoped>\n",
       "    .dataframe tbody tr th:only-of-type {\n",
       "        vertical-align: middle;\n",
       "    }\n",
       "\n",
       "    .dataframe tbody tr th {\n",
       "        vertical-align: top;\n",
       "    }\n",
       "\n",
       "    .dataframe thead th {\n",
       "        text-align: right;\n",
       "    }\n",
       "</style>\n",
       "<table border=\"1\" class=\"dataframe\">\n",
       "  <thead>\n",
       "    <tr style=\"text-align: right;\">\n",
       "      <th></th>\n",
       "      <th>2018</th>\n",
       "      <th>2019</th>\n",
       "      <th>change_last_two_years</th>\n",
       "    </tr>\n",
       "    <tr>\n",
       "      <th>Country Name</th>\n",
       "      <th></th>\n",
       "      <th></th>\n",
       "      <th></th>\n",
       "    </tr>\n",
       "  </thead>\n",
       "  <tbody>\n",
       "    <tr>\n",
       "      <th>Maldives</th>\n",
       "      <td>21.112317</td>\n",
       "      <td>20.154893</td>\n",
       "      <td>-0.957424</td>\n",
       "    </tr>\n",
       "  </tbody>\n",
       "</table>\n",
       "</div>"
      ],
      "text/plain": [
       "                   2018       2019  change_last_two_years\n",
       "Country Name                                             \n",
       "Maldives      21.112317  20.154893              -0.957424"
      ]
     },
     "execution_count": 24,
     "metadata": {},
     "output_type": "execute_result"
    }
   ],
   "source": [
    "# Find the minimum \n",
    "change_min = change_last_two_years.min()\n",
    "min_values = change_last_two_years.apply(lambda x: x == change_min)\n",
    "min_indices = np.nonzero(min_values.to_numpy())\n",
    "df_gender_indicator_2_non_nan.iloc[min_indices[0]]"
   ]
  },
  {
   "cell_type": "code",
   "execution_count": 25,
   "metadata": {},
   "outputs": [
    {
     "data": {
      "text/html": [
       "<div>\n",
       "<style scoped>\n",
       "    .dataframe tbody tr th:only-of-type {\n",
       "        vertical-align: middle;\n",
       "    }\n",
       "\n",
       "    .dataframe tbody tr th {\n",
       "        vertical-align: top;\n",
       "    }\n",
       "\n",
       "    .dataframe thead th {\n",
       "        text-align: right;\n",
       "    }\n",
       "</style>\n",
       "<table border=\"1\" class=\"dataframe\">\n",
       "  <thead>\n",
       "    <tr style=\"text-align: right;\">\n",
       "      <th></th>\n",
       "      <th>2018</th>\n",
       "      <th>2019</th>\n",
       "      <th>change_last_two_years</th>\n",
       "    </tr>\n",
       "  </thead>\n",
       "  <tbody>\n",
       "    <tr>\n",
       "      <th>66694</th>\n",
       "      <td>38.858304</td>\n",
       "      <td>38.883095</td>\n",
       "      <td>0.024791</td>\n",
       "    </tr>\n",
       "  </tbody>\n",
       "</table>\n",
       "</div>"
      ],
      "text/plain": [
       "            2018       2019  change_last_two_years\n",
       "66694  38.858304  38.883095               0.024791"
      ]
     },
     "execution_count": 25,
     "metadata": {},
     "output_type": "execute_result"
    }
   ],
   "source": [
    "# World Average \n",
    "world_mask = df[country_code] == \"WLD\"\n",
    "world_gender_indicator_2 = df[gender_indicator_2_mask & world_mask][last_two_years]\n",
    "world_gender_indicator_2[\"change_last_two_years\"] = world_gender_indicator_2[\"2019\"] - world_gender_indicator_2[\"2018\"]\n",
    "world_gender_indicator_2"
   ]
  },
  {
   "cell_type": "markdown",
   "metadata": {},
   "source": [
    "**Quick Fact 2**\n",
    "* The country of Costa Rica has seen the highest growth in female labor force of 1.63% increasing from 38.8% to 40.5%.\n",
    "* The country with the greatest decline in this specific indicator is Venezuela whose -1.25% decline decrease the active female labor force from 38.46% to 37.22% of female population\n",
    "* World Average - +ve 0.024%"
   ]
  },
  {
   "cell_type": "code",
   "execution_count": 26,
   "metadata": {},
   "outputs": [
    {
     "data": {
      "text/html": [
       "<div>\n",
       "<style scoped>\n",
       "    .dataframe tbody tr th:only-of-type {\n",
       "        vertical-align: middle;\n",
       "    }\n",
       "\n",
       "    .dataframe tbody tr th {\n",
       "        vertical-align: top;\n",
       "    }\n",
       "\n",
       "    .dataframe thead th {\n",
       "        text-align: right;\n",
       "    }\n",
       "</style>\n",
       "<table border=\"1\" class=\"dataframe\">\n",
       "  <thead>\n",
       "    <tr style=\"text-align: right;\">\n",
       "      <th></th>\n",
       "      <th>Country Code</th>\n",
       "      <th>Indicator Name</th>\n",
       "      <th>Indicator Code</th>\n",
       "      <th>1960</th>\n",
       "      <th>1961</th>\n",
       "      <th>1962</th>\n",
       "      <th>1963</th>\n",
       "      <th>1964</th>\n",
       "      <th>1965</th>\n",
       "      <th>1966</th>\n",
       "      <th>...</th>\n",
       "      <th>2012</th>\n",
       "      <th>2013</th>\n",
       "      <th>2014</th>\n",
       "      <th>2015</th>\n",
       "      <th>2016</th>\n",
       "      <th>2017</th>\n",
       "      <th>2018</th>\n",
       "      <th>2019</th>\n",
       "      <th>2020</th>\n",
       "      <th>Unnamed: 65</th>\n",
       "    </tr>\n",
       "    <tr>\n",
       "      <th>Country Name</th>\n",
       "      <th></th>\n",
       "      <th></th>\n",
       "      <th></th>\n",
       "      <th></th>\n",
       "      <th></th>\n",
       "      <th></th>\n",
       "      <th></th>\n",
       "      <th></th>\n",
       "      <th></th>\n",
       "      <th></th>\n",
       "      <th></th>\n",
       "      <th></th>\n",
       "      <th></th>\n",
       "      <th></th>\n",
       "      <th></th>\n",
       "      <th></th>\n",
       "      <th></th>\n",
       "      <th></th>\n",
       "      <th></th>\n",
       "      <th></th>\n",
       "      <th></th>\n",
       "    </tr>\n",
       "  </thead>\n",
       "  <tbody>\n",
       "    <tr>\n",
       "      <th>Afghanistan</th>\n",
       "      <td>AFG</td>\n",
       "      <td>School enrollment, secondary (gross), gender p...</td>\n",
       "      <td>SE.ENR.SECO.FM.ZS</td>\n",
       "      <td>NaN</td>\n",
       "      <td>NaN</td>\n",
       "      <td>NaN</td>\n",
       "      <td>NaN</td>\n",
       "      <td>NaN</td>\n",
       "      <td>NaN</td>\n",
       "      <td>NaN</td>\n",
       "      <td>...</td>\n",
       "      <td>0.55749</td>\n",
       "      <td>0.55226</td>\n",
       "      <td>0.55640</td>\n",
       "      <td>0.55790</td>\n",
       "      <td>0.57128</td>\n",
       "      <td>0.56842</td>\n",
       "      <td>0.57098</td>\n",
       "      <td>NaN</td>\n",
       "      <td>NaN</td>\n",
       "      <td>NaN</td>\n",
       "    </tr>\n",
       "    <tr>\n",
       "      <th>Albania</th>\n",
       "      <td>ALB</td>\n",
       "      <td>School enrollment, secondary (gross), gender p...</td>\n",
       "      <td>SE.ENR.SECO.FM.ZS</td>\n",
       "      <td>NaN</td>\n",
       "      <td>NaN</td>\n",
       "      <td>NaN</td>\n",
       "      <td>NaN</td>\n",
       "      <td>NaN</td>\n",
       "      <td>NaN</td>\n",
       "      <td>NaN</td>\n",
       "      <td>...</td>\n",
       "      <td>0.97586</td>\n",
       "      <td>0.95973</td>\n",
       "      <td>0.94445</td>\n",
       "      <td>0.95622</td>\n",
       "      <td>0.97086</td>\n",
       "      <td>0.98903</td>\n",
       "      <td>1.00539</td>\n",
       "      <td>1.01136</td>\n",
       "      <td>NaN</td>\n",
       "      <td>NaN</td>\n",
       "    </tr>\n",
       "    <tr>\n",
       "      <th>Algeria</th>\n",
       "      <td>DZA</td>\n",
       "      <td>School enrollment, secondary (gross), gender p...</td>\n",
       "      <td>SE.ENR.SECO.FM.ZS</td>\n",
       "      <td>NaN</td>\n",
       "      <td>NaN</td>\n",
       "      <td>NaN</td>\n",
       "      <td>NaN</td>\n",
       "      <td>NaN</td>\n",
       "      <td>NaN</td>\n",
       "      <td>NaN</td>\n",
       "      <td>...</td>\n",
       "      <td>NaN</td>\n",
       "      <td>NaN</td>\n",
       "      <td>NaN</td>\n",
       "      <td>NaN</td>\n",
       "      <td>NaN</td>\n",
       "      <td>NaN</td>\n",
       "      <td>NaN</td>\n",
       "      <td>NaN</td>\n",
       "      <td>NaN</td>\n",
       "      <td>NaN</td>\n",
       "    </tr>\n",
       "    <tr>\n",
       "      <th>American Samoa</th>\n",
       "      <td>ASM</td>\n",
       "      <td>School enrollment, secondary (gross), gender p...</td>\n",
       "      <td>SE.ENR.SECO.FM.ZS</td>\n",
       "      <td>NaN</td>\n",
       "      <td>NaN</td>\n",
       "      <td>NaN</td>\n",
       "      <td>NaN</td>\n",
       "      <td>NaN</td>\n",
       "      <td>NaN</td>\n",
       "      <td>NaN</td>\n",
       "      <td>...</td>\n",
       "      <td>NaN</td>\n",
       "      <td>NaN</td>\n",
       "      <td>NaN</td>\n",
       "      <td>NaN</td>\n",
       "      <td>NaN</td>\n",
       "      <td>NaN</td>\n",
       "      <td>NaN</td>\n",
       "      <td>NaN</td>\n",
       "      <td>NaN</td>\n",
       "      <td>NaN</td>\n",
       "    </tr>\n",
       "    <tr>\n",
       "      <th>Andorra</th>\n",
       "      <td>AND</td>\n",
       "      <td>School enrollment, secondary (gross), gender p...</td>\n",
       "      <td>SE.ENR.SECO.FM.ZS</td>\n",
       "      <td>NaN</td>\n",
       "      <td>NaN</td>\n",
       "      <td>NaN</td>\n",
       "      <td>NaN</td>\n",
       "      <td>NaN</td>\n",
       "      <td>NaN</td>\n",
       "      <td>NaN</td>\n",
       "      <td>...</td>\n",
       "      <td>NaN</td>\n",
       "      <td>NaN</td>\n",
       "      <td>NaN</td>\n",
       "      <td>NaN</td>\n",
       "      <td>NaN</td>\n",
       "      <td>NaN</td>\n",
       "      <td>NaN</td>\n",
       "      <td>NaN</td>\n",
       "      <td>NaN</td>\n",
       "      <td>NaN</td>\n",
       "    </tr>\n",
       "  </tbody>\n",
       "</table>\n",
       "<p>5 rows × 65 columns</p>\n",
       "</div>"
      ],
      "text/plain": [
       "               Country Code  \\\n",
       "Country Name                  \n",
       "Afghanistan             AFG   \n",
       "Albania                 ALB   \n",
       "Algeria                 DZA   \n",
       "American Samoa          ASM   \n",
       "Andorra                 AND   \n",
       "\n",
       "                                                   Indicator Name  \\\n",
       "Country Name                                                        \n",
       "Afghanistan     School enrollment, secondary (gross), gender p...   \n",
       "Albania         School enrollment, secondary (gross), gender p...   \n",
       "Algeria         School enrollment, secondary (gross), gender p...   \n",
       "American Samoa  School enrollment, secondary (gross), gender p...   \n",
       "Andorra         School enrollment, secondary (gross), gender p...   \n",
       "\n",
       "                   Indicator Code  1960  1961  1962  1963  1964  1965  1966  \\\n",
       "Country Name                                                                  \n",
       "Afghanistan     SE.ENR.SECO.FM.ZS   NaN   NaN   NaN   NaN   NaN   NaN   NaN   \n",
       "Albania         SE.ENR.SECO.FM.ZS   NaN   NaN   NaN   NaN   NaN   NaN   NaN   \n",
       "Algeria         SE.ENR.SECO.FM.ZS   NaN   NaN   NaN   NaN   NaN   NaN   NaN   \n",
       "American Samoa  SE.ENR.SECO.FM.ZS   NaN   NaN   NaN   NaN   NaN   NaN   NaN   \n",
       "Andorra         SE.ENR.SECO.FM.ZS   NaN   NaN   NaN   NaN   NaN   NaN   NaN   \n",
       "\n",
       "                ...     2012     2013     2014     2015     2016     2017  \\\n",
       "Country Name    ...                                                         \n",
       "Afghanistan     ...  0.55749  0.55226  0.55640  0.55790  0.57128  0.56842   \n",
       "Albania         ...  0.97586  0.95973  0.94445  0.95622  0.97086  0.98903   \n",
       "Algeria         ...      NaN      NaN      NaN      NaN      NaN      NaN   \n",
       "American Samoa  ...      NaN      NaN      NaN      NaN      NaN      NaN   \n",
       "Andorra         ...      NaN      NaN      NaN      NaN      NaN      NaN   \n",
       "\n",
       "                   2018     2019  2020  Unnamed: 65  \n",
       "Country Name                                         \n",
       "Afghanistan     0.57098      NaN   NaN          NaN  \n",
       "Albania         1.00539  1.01136   NaN          NaN  \n",
       "Algeria             NaN      NaN   NaN          NaN  \n",
       "American Samoa      NaN      NaN   NaN          NaN  \n",
       "Andorra             NaN      NaN   NaN          NaN  \n",
       "\n",
       "[5 rows x 65 columns]"
      ]
     },
     "execution_count": 26,
     "metadata": {},
     "output_type": "execute_result"
    }
   ],
   "source": [
    "# Mask for Gender indicator 3\n",
    "gender_indicator_3_mask = df[indicator_name] == gender_required_indicators[2]\n",
    "df_gender_indicator_3 = df[gender_indicator_3_mask & country_only_mask] # Countries with only these indicators\n",
    "df_gender_indicator_3 = df_gender_indicator_3.set_index(country)\n",
    "df_gender_indicator_3.head()"
   ]
  },
  {
   "cell_type": "code",
   "execution_count": 27,
   "metadata": {},
   "outputs": [],
   "source": [
    "# Nan Cleaning\n",
    "df_gender_indicator_3_non_nan = df_gender_indicator_3[last_two_years_no_nan][last_two_years]\n",
    "df_gender_indicator_3_non_nan[\"change_last_two_years\"] = df_gender_indicator_3_non_nan[\"2019\"] - df_gender_indicator_3_non_nan[\"2018\"]\n",
    "change_last_two_years = df_gender_indicator_3_non_nan[\"change_last_two_years\"]"
   ]
  },
  {
   "cell_type": "code",
   "execution_count": 28,
   "metadata": {},
   "outputs": [
    {
     "data": {
      "text/html": [
       "<div>\n",
       "<style scoped>\n",
       "    .dataframe tbody tr th:only-of-type {\n",
       "        vertical-align: middle;\n",
       "    }\n",
       "\n",
       "    .dataframe tbody tr th {\n",
       "        vertical-align: top;\n",
       "    }\n",
       "\n",
       "    .dataframe thead th {\n",
       "        text-align: right;\n",
       "    }\n",
       "</style>\n",
       "<table border=\"1\" class=\"dataframe\">\n",
       "  <thead>\n",
       "    <tr style=\"text-align: right;\">\n",
       "      <th></th>\n",
       "      <th>2018</th>\n",
       "      <th>2019</th>\n",
       "      <th>change_last_two_years</th>\n",
       "    </tr>\n",
       "    <tr>\n",
       "      <th>Country Name</th>\n",
       "      <th></th>\n",
       "      <th></th>\n",
       "      <th></th>\n",
       "    </tr>\n",
       "  </thead>\n",
       "  <tbody>\n",
       "    <tr>\n",
       "      <th>Burundi</th>\n",
       "      <td>1.11448</td>\n",
       "      <td>1.15231</td>\n",
       "      <td>0.03783</td>\n",
       "    </tr>\n",
       "  </tbody>\n",
       "</table>\n",
       "</div>"
      ],
      "text/plain": [
       "                 2018     2019  change_last_two_years\n",
       "Country Name                                         \n",
       "Burundi       1.11448  1.15231                0.03783"
      ]
     },
     "execution_count": 28,
     "metadata": {},
     "output_type": "execute_result"
    }
   ],
   "source": [
    "# Find the maximum change \n",
    "max_values = change_last_two_years.apply(lambda x: x==change_last_two_years.max())\n",
    "max_indices = np.nonzero(max_values.to_numpy())\n",
    "df_gender_indicator_3_non_nan.iloc[max_indices[0]]"
   ]
  },
  {
   "cell_type": "code",
   "execution_count": 29,
   "metadata": {},
   "outputs": [
    {
     "data": {
      "text/html": [
       "<div>\n",
       "<style scoped>\n",
       "    .dataframe tbody tr th:only-of-type {\n",
       "        vertical-align: middle;\n",
       "    }\n",
       "\n",
       "    .dataframe tbody tr th {\n",
       "        vertical-align: top;\n",
       "    }\n",
       "\n",
       "    .dataframe thead th {\n",
       "        text-align: right;\n",
       "    }\n",
       "</style>\n",
       "<table border=\"1\" class=\"dataframe\">\n",
       "  <thead>\n",
       "    <tr style=\"text-align: right;\">\n",
       "      <th></th>\n",
       "      <th>2018</th>\n",
       "      <th>2019</th>\n",
       "      <th>change_last_two_years</th>\n",
       "    </tr>\n",
       "    <tr>\n",
       "      <th>Country Name</th>\n",
       "      <th></th>\n",
       "      <th></th>\n",
       "      <th></th>\n",
       "    </tr>\n",
       "  </thead>\n",
       "  <tbody>\n",
       "    <tr>\n",
       "      <th>Malawi</th>\n",
       "      <td>0.98213</td>\n",
       "      <td>0.83048</td>\n",
       "      <td>-0.15165</td>\n",
       "    </tr>\n",
       "  </tbody>\n",
       "</table>\n",
       "</div>"
      ],
      "text/plain": [
       "                 2018     2019  change_last_two_years\n",
       "Country Name                                         \n",
       "Malawi        0.98213  0.83048               -0.15165"
      ]
     },
     "execution_count": 29,
     "metadata": {},
     "output_type": "execute_result"
    }
   ],
   "source": [
    "# Find the minimum \n",
    "change_min = change_last_two_years.min()\n",
    "min_values = change_last_two_years.apply(lambda x: x == change_min)\n",
    "min_indices = np.nonzero(min_values.to_numpy())\n",
    "df_gender_indicator_3_non_nan.iloc[min_indices[0]]"
   ]
  },
  {
   "cell_type": "code",
   "execution_count": 30,
   "metadata": {},
   "outputs": [
    {
     "data": {
      "text/html": [
       "<div>\n",
       "<style scoped>\n",
       "    .dataframe tbody tr th:only-of-type {\n",
       "        vertical-align: middle;\n",
       "    }\n",
       "\n",
       "    .dataframe tbody tr th {\n",
       "        vertical-align: top;\n",
       "    }\n",
       "\n",
       "    .dataframe thead th {\n",
       "        text-align: right;\n",
       "    }\n",
       "</style>\n",
       "<table border=\"1\" class=\"dataframe\">\n",
       "  <thead>\n",
       "    <tr style=\"text-align: right;\">\n",
       "      <th></th>\n",
       "      <th>2018</th>\n",
       "      <th>2019</th>\n",
       "      <th>change_last_two_years</th>\n",
       "    </tr>\n",
       "  </thead>\n",
       "  <tbody>\n",
       "    <tr>\n",
       "      <th>67218</th>\n",
       "      <td>0.99104</td>\n",
       "      <td>0.99192</td>\n",
       "      <td>0.00088</td>\n",
       "    </tr>\n",
       "  </tbody>\n",
       "</table>\n",
       "</div>"
      ],
      "text/plain": [
       "          2018     2019  change_last_two_years\n",
       "67218  0.99104  0.99192                0.00088"
      ]
     },
     "execution_count": 30,
     "metadata": {},
     "output_type": "execute_result"
    }
   ],
   "source": [
    "# World average \n",
    "world_mask = df[country_code] == \"WLD\"\n",
    "world_gender_indicator_3 = df[gender_indicator_3_mask & world_mask][last_two_years]\n",
    "world_gender_indicator_3[\"change_last_two_years\"] = world_gender_indicator_3[\"2019\"] - world_gender_indicator_3[\"2018\"]\n",
    "world_gender_indicator_3"
   ]
  },
  {
   "cell_type": "code",
   "execution_count": 31,
   "metadata": {},
   "outputs": [
    {
     "data": {
      "text/plain": [
       "Country Name\n",
       "Tuvalu    1.33158\n",
       "Name: 2019, dtype: float64"
      ]
     },
     "execution_count": 31,
     "metadata": {},
     "output_type": "execute_result"
    }
   ],
   "source": [
    "# World highest \n",
    "indicator_3_2019 = df[gender_indicator_3_mask & country_only_mask].set_index(country)[\"2019\"]\n",
    "indicator_3_max_2019 = indicator_3_2019.max()\n",
    "indices_indicator_3_max = np.nonzero(indicator_3_2019.apply(lambda x: x==indicator_3_max_2019 ).to_numpy())\n",
    "indicator_3_2019.iloc[indices_indicator_3_max[0]]"
   ]
  },
  {
   "cell_type": "code",
   "execution_count": 32,
   "metadata": {},
   "outputs": [
    {
     "data": {
      "text/plain": [
       "Country Name\n",
       "Chad    0.53255\n",
       "Name: 2019, dtype: float64"
      ]
     },
     "execution_count": 32,
     "metadata": {},
     "output_type": "execute_result"
    }
   ],
   "source": [
    "# World lowest \n",
    "indicator_3_2019 = df[gender_indicator_3_mask & country_only_mask].set_index(country)[\"2019\"]\n",
    "indicator_3_max_2019 = indicator_3_2019.min()\n",
    "indices_indicator_3_max = np.nonzero(indicator_3_2019.apply(lambda x: x==indicator_3_max_2019 ).to_numpy())\n",
    "indicator_3_2019.iloc[indices_indicator_3_max[0]]"
   ]
  },
  {
   "cell_type": "markdown",
   "metadata": {},
   "source": [
    "**Quick Fact 3**\n",
    "*Gender Parity Index -> greater than 1 indicates that girls are preferred -> less than one girls are at a disadvantage*\n",
    "\n",
    "* The country that has experienced the biggest positive change is Burundi where the GPI increased from 1.11 to 1.15\n",
    "* Malawi has seen the sharpest decrease from 0.98 to 0.83 in the last two years\n",
    "* World Average is at 0.99\n",
    "* The country with the highest GPI is Tualu with 1.33\n",
    "* Chad is the worst with 0.53 Gender Parity Index ()"
   ]
  },
  {
   "cell_type": "markdown",
   "metadata": {},
   "source": [
    "## World at a Glance\n",
    "* In this section, all of the regions of the world are studied unde the scope of a few very important indicators \n",
    "* These indicators should include \n",
    "  * 1) Economic Growth \n",
    "  * 2) Gender\n",
    "  * 3) Education \n",
    "  * 4) Population \n",
    "  * 5) Wealth Distribution "
   ]
  },
  {
   "cell_type": "code",
   "execution_count": 159,
   "metadata": {},
   "outputs": [],
   "source": [
    "# Indicators Code Names\n",
    "economic_growth_indicator = \"NY.GDP.MKTP.KD.ZG\" # GDP growth percentage\n",
    "gender_indicator = \"IQ.CPA.GNDR.XQ\" # Gender Parity Index\n",
    "population_indicator = \"SP.POP.TOTL\" # Total Population \n",
    "wealth_distribution = \"SI.POV.GINI\" # GINI index\n",
    "education_indicator = \"SE.ADT.LITR.ZS\" # Literacy rate"
   ]
  },
  {
   "cell_type": "code",
   "execution_count": 34,
   "metadata": {},
   "outputs": [],
   "source": [
    "world_at_a_glance_indicators_array = [\n",
    "    economic_growth_indicator, \n",
    "    gender_indicator, \n",
    "    population_indicator, \n",
    "    wealth_distribution, \n",
    "    education_indicator\n",
    "]"
   ]
  },
  {
   "cell_type": "code",
   "execution_count": 35,
   "metadata": {},
   "outputs": [
    {
     "data": {
      "text/plain": [
       "array(['Arab World', 'Caribbean small states',\n",
       "       'Central Europe and the Baltics', 'Early-demographic dividend',\n",
       "       'East Asia & Pacific',\n",
       "       'East Asia & Pacific (excluding high income)',\n",
       "       'East Asia & Pacific (IDA & IBRD countries)', 'Euro area',\n",
       "       'Europe & Central Asia',\n",
       "       'Europe & Central Asia (excluding high income)',\n",
       "       'Europe & Central Asia (IDA & IBRD countries)', 'European Union',\n",
       "       'Fragile and conflict affected situations',\n",
       "       'Heavily indebted poor countries (HIPC)', 'High income',\n",
       "       'IBRD only', 'IDA & IBRD total', 'IDA blend', 'IDA only',\n",
       "       'IDA total', 'Late-demographic dividend',\n",
       "       'Latin America & Caribbean',\n",
       "       'Latin America & Caribbean (excluding high income)',\n",
       "       'Latin America & the Caribbean (IDA & IBRD countries)',\n",
       "       'Least developed countries: UN classification',\n",
       "       'Low & middle income', 'Low income', 'Lower middle income',\n",
       "       'Middle East & North Africa',\n",
       "       'Middle East & North Africa (excluding high income)',\n",
       "       'Middle East & North Africa (IDA & IBRD countries)',\n",
       "       'Middle income', 'North America', 'Not classified', 'OECD members',\n",
       "       'Other small states', 'Pacific island small states',\n",
       "       'Post-demographic dividend', 'Pre-demographic dividend',\n",
       "       'Small states', 'South Asia', 'South Asia (IDA & IBRD)',\n",
       "       'Sub-Saharan Africa', 'Sub-Saharan Africa (excluding high income)',\n",
       "       'Sub-Saharan Africa (IDA & IBRD countries)', 'Upper middle income',\n",
       "       'World'], dtype=object)"
      ]
     },
     "execution_count": 35,
     "metadata": {},
     "output_type": "execute_result"
    }
   ],
   "source": [
    "# Region Names\n",
    "regions_mask = ~country_only_mask\n",
    "df[regions_mask][\"Country Name\"].unique()"
   ]
  },
  {
   "cell_type": "code",
   "execution_count": 36,
   "metadata": {},
   "outputs": [],
   "source": [
    "# Regions mask \n",
    "required_regions = [\n",
    "    'Arab World', \n",
    "    'Caribbean small states', \n",
    "    'East Asia & Pacific', \n",
    "    'Europe & Central Asia', \n",
    "    'Latin America & Caribbean', \n",
    "    'Middle East & North Africa', \n",
    "    'Pacific island small states', \n",
    "    'South Asia', \n",
    "    'Sub-Saharan Africa', \n",
    "    \"World\"\n",
    "\n",
    "]\n",
    "required_regions_mask = df[country].isin(required_regions)"
   ]
  },
  {
   "cell_type": "code",
   "execution_count": 37,
   "metadata": {
    "scrolled": true
   },
   "outputs": [
    {
     "data": {
      "text/html": [
       "<div>\n",
       "<style scoped>\n",
       "    .dataframe tbody tr th:only-of-type {\n",
       "        vertical-align: middle;\n",
       "    }\n",
       "\n",
       "    .dataframe tbody tr th {\n",
       "        vertical-align: top;\n",
       "    }\n",
       "\n",
       "    .dataframe thead th {\n",
       "        text-align: right;\n",
       "    }\n",
       "</style>\n",
       "<table border=\"1\" class=\"dataframe\">\n",
       "  <thead>\n",
       "    <tr style=\"text-align: right;\">\n",
       "      <th></th>\n",
       "      <th>Country Name</th>\n",
       "      <th>Country Code</th>\n",
       "      <th>Indicator Name</th>\n",
       "      <th>Indicator Code</th>\n",
       "      <th>1960</th>\n",
       "      <th>1961</th>\n",
       "      <th>1962</th>\n",
       "      <th>1963</th>\n",
       "      <th>1964</th>\n",
       "      <th>1965</th>\n",
       "      <th>...</th>\n",
       "      <th>2012</th>\n",
       "      <th>2013</th>\n",
       "      <th>2014</th>\n",
       "      <th>2015</th>\n",
       "      <th>2016</th>\n",
       "      <th>2017</th>\n",
       "      <th>2018</th>\n",
       "      <th>2019</th>\n",
       "      <th>2020</th>\n",
       "      <th>Unnamed: 65</th>\n",
       "    </tr>\n",
       "  </thead>\n",
       "  <tbody>\n",
       "    <tr>\n",
       "      <th>5993</th>\n",
       "      <td>East Asia &amp; Pacific</td>\n",
       "      <td>EAS</td>\n",
       "      <td>Coverage of social safety net programs in poor...</td>\n",
       "      <td>per_sa_allsa.cov_q1_tot</td>\n",
       "      <td>NaN</td>\n",
       "      <td>NaN</td>\n",
       "      <td>NaN</td>\n",
       "      <td>NaN</td>\n",
       "      <td>NaN</td>\n",
       "      <td>NaN</td>\n",
       "      <td>...</td>\n",
       "      <td>NaN</td>\n",
       "      <td>NaN</td>\n",
       "      <td>NaN</td>\n",
       "      <td>NaN</td>\n",
       "      <td>NaN</td>\n",
       "      <td>NaN</td>\n",
       "      <td>NaN</td>\n",
       "      <td>NaN</td>\n",
       "      <td>NaN</td>\n",
       "      <td>NaN</td>\n",
       "    </tr>\n",
       "    <tr>\n",
       "      <th>61438</th>\n",
       "      <td>Sub-Saharan Africa</td>\n",
       "      <td>SSF</td>\n",
       "      <td>Real interest rate (%)</td>\n",
       "      <td>FR.INR.RINR</td>\n",
       "      <td>NaN</td>\n",
       "      <td>NaN</td>\n",
       "      <td>NaN</td>\n",
       "      <td>NaN</td>\n",
       "      <td>NaN</td>\n",
       "      <td>NaN</td>\n",
       "      <td>...</td>\n",
       "      <td>NaN</td>\n",
       "      <td>NaN</td>\n",
       "      <td>NaN</td>\n",
       "      <td>NaN</td>\n",
       "      <td>NaN</td>\n",
       "      <td>NaN</td>\n",
       "      <td>NaN</td>\n",
       "      <td>NaN</td>\n",
       "      <td>NaN</td>\n",
       "      <td>NaN</td>\n",
       "    </tr>\n",
       "    <tr>\n",
       "      <th>41243</th>\n",
       "      <td>Middle East &amp; North Africa</td>\n",
       "      <td>MEA</td>\n",
       "      <td>Portfolio investment, net (BoP, current US$)</td>\n",
       "      <td>BN.KLT.PTXL.CD</td>\n",
       "      <td>NaN</td>\n",
       "      <td>NaN</td>\n",
       "      <td>NaN</td>\n",
       "      <td>NaN</td>\n",
       "      <td>NaN</td>\n",
       "      <td>NaN</td>\n",
       "      <td>...</td>\n",
       "      <td>NaN</td>\n",
       "      <td>NaN</td>\n",
       "      <td>NaN</td>\n",
       "      <td>NaN</td>\n",
       "      <td>NaN</td>\n",
       "      <td>NaN</td>\n",
       "      <td>NaN</td>\n",
       "      <td>NaN</td>\n",
       "      <td>NaN</td>\n",
       "      <td>NaN</td>\n",
       "    </tr>\n",
       "    <tr>\n",
       "      <th>2507</th>\n",
       "      <td>Caribbean small states</td>\n",
       "      <td>CSS</td>\n",
       "      <td>PPG, bonds (NFL, current US$)</td>\n",
       "      <td>DT.NFL.PBND.CD</td>\n",
       "      <td>NaN</td>\n",
       "      <td>NaN</td>\n",
       "      <td>NaN</td>\n",
       "      <td>NaN</td>\n",
       "      <td>NaN</td>\n",
       "      <td>NaN</td>\n",
       "      <td>...</td>\n",
       "      <td>NaN</td>\n",
       "      <td>NaN</td>\n",
       "      <td>NaN</td>\n",
       "      <td>NaN</td>\n",
       "      <td>NaN</td>\n",
       "      <td>NaN</td>\n",
       "      <td>NaN</td>\n",
       "      <td>NaN</td>\n",
       "      <td>NaN</td>\n",
       "      <td>NaN</td>\n",
       "    </tr>\n",
       "    <tr>\n",
       "      <th>41137</th>\n",
       "      <td>Middle East &amp; North Africa</td>\n",
       "      <td>MEA</td>\n",
       "      <td>People practicing open defecation, rural (% of...</td>\n",
       "      <td>SH.STA.ODFC.RU.ZS</td>\n",
       "      <td>NaN</td>\n",
       "      <td>NaN</td>\n",
       "      <td>NaN</td>\n",
       "      <td>NaN</td>\n",
       "      <td>NaN</td>\n",
       "      <td>NaN</td>\n",
       "      <td>...</td>\n",
       "      <td>7.337459</td>\n",
       "      <td>6.771876</td>\n",
       "      <td>6.443313</td>\n",
       "      <td>6.149405</td>\n",
       "      <td>6.057617</td>\n",
       "      <td>NaN</td>\n",
       "      <td>NaN</td>\n",
       "      <td>NaN</td>\n",
       "      <td>NaN</td>\n",
       "      <td>NaN</td>\n",
       "    </tr>\n",
       "    <tr>\n",
       "      <th>41157</th>\n",
       "      <td>Middle East &amp; North Africa</td>\n",
       "      <td>MEA</td>\n",
       "      <td>Persistence to grade 5, male (% of cohort)</td>\n",
       "      <td>SE.PRM.PRS5.MA.ZS</td>\n",
       "      <td>NaN</td>\n",
       "      <td>NaN</td>\n",
       "      <td>NaN</td>\n",
       "      <td>NaN</td>\n",
       "      <td>NaN</td>\n",
       "      <td>NaN</td>\n",
       "      <td>...</td>\n",
       "      <td>NaN</td>\n",
       "      <td>NaN</td>\n",
       "      <td>NaN</td>\n",
       "      <td>NaN</td>\n",
       "      <td>94.352803</td>\n",
       "      <td>NaN</td>\n",
       "      <td>NaN</td>\n",
       "      <td>NaN</td>\n",
       "      <td>NaN</td>\n",
       "      <td>NaN</td>\n",
       "    </tr>\n",
       "    <tr>\n",
       "      <th>2659</th>\n",
       "      <td>Caribbean small states</td>\n",
       "      <td>CSS</td>\n",
       "      <td>Secondary education, teachers</td>\n",
       "      <td>SE.SEC.TCHR</td>\n",
       "      <td>NaN</td>\n",
       "      <td>NaN</td>\n",
       "      <td>NaN</td>\n",
       "      <td>NaN</td>\n",
       "      <td>NaN</td>\n",
       "      <td>NaN</td>\n",
       "      <td>...</td>\n",
       "      <td>37633.390000</td>\n",
       "      <td>37937.770000</td>\n",
       "      <td>37962.620000</td>\n",
       "      <td>38072.700000</td>\n",
       "      <td>37577.310000</td>\n",
       "      <td>39210.330000</td>\n",
       "      <td>38283.570000</td>\n",
       "      <td>39461.070000</td>\n",
       "      <td>NaN</td>\n",
       "      <td>NaN</td>\n",
       "    </tr>\n",
       "    <tr>\n",
       "      <th>6491</th>\n",
       "      <td>East Asia &amp; Pacific</td>\n",
       "      <td>EAS</td>\n",
       "      <td>Merchandise exports to low- and middle-income ...</td>\n",
       "      <td>TX.VAL.MRCH.WR.ZS</td>\n",
       "      <td>1.669975</td>\n",
       "      <td>2.664415</td>\n",
       "      <td>1.969066</td>\n",
       "      <td>1.757521</td>\n",
       "      <td>1.725722</td>\n",
       "      <td>1.184633</td>\n",
       "      <td>...</td>\n",
       "      <td>7.426967</td>\n",
       "      <td>8.116387</td>\n",
       "      <td>8.276495</td>\n",
       "      <td>8.481219</td>\n",
       "      <td>8.746862</td>\n",
       "      <td>9.297245</td>\n",
       "      <td>9.644897</td>\n",
       "      <td>10.424925</td>\n",
       "      <td>NaN</td>\n",
       "      <td>NaN</td>\n",
       "    </tr>\n",
       "    <tr>\n",
       "      <th>52552</th>\n",
       "      <td>Pacific island small states</td>\n",
       "      <td>PSS</td>\n",
       "      <td>Net official flows from UN agencies, UNFPA (cu...</td>\n",
       "      <td>DT.NFL.UNFP.CD</td>\n",
       "      <td>NaN</td>\n",
       "      <td>NaN</td>\n",
       "      <td>NaN</td>\n",
       "      <td>NaN</td>\n",
       "      <td>NaN</td>\n",
       "      <td>NaN</td>\n",
       "      <td>...</td>\n",
       "      <td>NaN</td>\n",
       "      <td>NaN</td>\n",
       "      <td>NaN</td>\n",
       "      <td>NaN</td>\n",
       "      <td>NaN</td>\n",
       "      <td>NaN</td>\n",
       "      <td>NaN</td>\n",
       "      <td>NaN</td>\n",
       "      <td>NaN</td>\n",
       "      <td>NaN</td>\n",
       "    </tr>\n",
       "    <tr>\n",
       "      <th>60666</th>\n",
       "      <td>Sub-Saharan Africa</td>\n",
       "      <td>SSF</td>\n",
       "      <td>Exports of goods and services (annual % growth)</td>\n",
       "      <td>NE.EXP.GNFS.KD.ZG</td>\n",
       "      <td>NaN</td>\n",
       "      <td>NaN</td>\n",
       "      <td>NaN</td>\n",
       "      <td>NaN</td>\n",
       "      <td>NaN</td>\n",
       "      <td>NaN</td>\n",
       "      <td>...</td>\n",
       "      <td>-0.332851</td>\n",
       "      <td>-3.400709</td>\n",
       "      <td>8.901983</td>\n",
       "      <td>-0.678227</td>\n",
       "      <td>2.469624</td>\n",
       "      <td>7.023626</td>\n",
       "      <td>1.772424</td>\n",
       "      <td>4.877300</td>\n",
       "      <td>NaN</td>\n",
       "      <td>NaN</td>\n",
       "    </tr>\n",
       "  </tbody>\n",
       "</table>\n",
       "<p>10 rows × 66 columns</p>\n",
       "</div>"
      ],
      "text/plain": [
       "                      Country Name Country Code  \\\n",
       "5993           East Asia & Pacific          EAS   \n",
       "61438           Sub-Saharan Africa          SSF   \n",
       "41243   Middle East & North Africa          MEA   \n",
       "2507        Caribbean small states          CSS   \n",
       "41137   Middle East & North Africa          MEA   \n",
       "41157   Middle East & North Africa          MEA   \n",
       "2659        Caribbean small states          CSS   \n",
       "6491           East Asia & Pacific          EAS   \n",
       "52552  Pacific island small states          PSS   \n",
       "60666           Sub-Saharan Africa          SSF   \n",
       "\n",
       "                                          Indicator Name  \\\n",
       "5993   Coverage of social safety net programs in poor...   \n",
       "61438                             Real interest rate (%)   \n",
       "41243       Portfolio investment, net (BoP, current US$)   \n",
       "2507                       PPG, bonds (NFL, current US$)   \n",
       "41137  People practicing open defecation, rural (% of...   \n",
       "41157         Persistence to grade 5, male (% of cohort)   \n",
       "2659                       Secondary education, teachers   \n",
       "6491   Merchandise exports to low- and middle-income ...   \n",
       "52552  Net official flows from UN agencies, UNFPA (cu...   \n",
       "60666    Exports of goods and services (annual % growth)   \n",
       "\n",
       "                Indicator Code      1960      1961      1962      1963  \\\n",
       "5993   per_sa_allsa.cov_q1_tot       NaN       NaN       NaN       NaN   \n",
       "61438              FR.INR.RINR       NaN       NaN       NaN       NaN   \n",
       "41243           BN.KLT.PTXL.CD       NaN       NaN       NaN       NaN   \n",
       "2507            DT.NFL.PBND.CD       NaN       NaN       NaN       NaN   \n",
       "41137        SH.STA.ODFC.RU.ZS       NaN       NaN       NaN       NaN   \n",
       "41157        SE.PRM.PRS5.MA.ZS       NaN       NaN       NaN       NaN   \n",
       "2659               SE.SEC.TCHR       NaN       NaN       NaN       NaN   \n",
       "6491         TX.VAL.MRCH.WR.ZS  1.669975  2.664415  1.969066  1.757521   \n",
       "52552           DT.NFL.UNFP.CD       NaN       NaN       NaN       NaN   \n",
       "60666        NE.EXP.GNFS.KD.ZG       NaN       NaN       NaN       NaN   \n",
       "\n",
       "           1964      1965  ...          2012          2013          2014  \\\n",
       "5993        NaN       NaN  ...           NaN           NaN           NaN   \n",
       "61438       NaN       NaN  ...           NaN           NaN           NaN   \n",
       "41243       NaN       NaN  ...           NaN           NaN           NaN   \n",
       "2507        NaN       NaN  ...           NaN           NaN           NaN   \n",
       "41137       NaN       NaN  ...      7.337459      6.771876      6.443313   \n",
       "41157       NaN       NaN  ...           NaN           NaN           NaN   \n",
       "2659        NaN       NaN  ...  37633.390000  37937.770000  37962.620000   \n",
       "6491   1.725722  1.184633  ...      7.426967      8.116387      8.276495   \n",
       "52552       NaN       NaN  ...           NaN           NaN           NaN   \n",
       "60666       NaN       NaN  ...     -0.332851     -3.400709      8.901983   \n",
       "\n",
       "               2015          2016          2017          2018          2019  \\\n",
       "5993            NaN           NaN           NaN           NaN           NaN   \n",
       "61438           NaN           NaN           NaN           NaN           NaN   \n",
       "41243           NaN           NaN           NaN           NaN           NaN   \n",
       "2507            NaN           NaN           NaN           NaN           NaN   \n",
       "41137      6.149405      6.057617           NaN           NaN           NaN   \n",
       "41157           NaN     94.352803           NaN           NaN           NaN   \n",
       "2659   38072.700000  37577.310000  39210.330000  38283.570000  39461.070000   \n",
       "6491       8.481219      8.746862      9.297245      9.644897     10.424925   \n",
       "52552           NaN           NaN           NaN           NaN           NaN   \n",
       "60666     -0.678227      2.469624      7.023626      1.772424      4.877300   \n",
       "\n",
       "       2020  Unnamed: 65  \n",
       "5993    NaN          NaN  \n",
       "61438   NaN          NaN  \n",
       "41243   NaN          NaN  \n",
       "2507    NaN          NaN  \n",
       "41137   NaN          NaN  \n",
       "41157   NaN          NaN  \n",
       "2659    NaN          NaN  \n",
       "6491    NaN          NaN  \n",
       "52552   NaN          NaN  \n",
       "60666   NaN          NaN  \n",
       "\n",
       "[10 rows x 66 columns]"
      ]
     },
     "execution_count": 37,
     "metadata": {},
     "output_type": "execute_result"
    }
   ],
   "source": [
    "df[required_regions_mask].sample(10)"
   ]
  },
  {
   "cell_type": "code",
   "execution_count": 38,
   "metadata": {},
   "outputs": [],
   "source": [
    "# Required Regions df\n",
    "regions_df = df[required_regions_mask].copy()\n",
    "regions_df = regions_df.set_index(country)"
   ]
  },
  {
   "cell_type": "code",
   "execution_count": 39,
   "metadata": {},
   "outputs": [],
   "source": [
    "# Masks \n",
    "last_year = [years[-1]]"
   ]
  },
  {
   "cell_type": "code",
   "execution_count": 40,
   "metadata": {},
   "outputs": [],
   "source": [
    "# Growth Indicator (Growth percentage%)\n",
    "indicator_mask = regions_df[indicator_code] == economic_growth_indicator\n",
    "regions_indicator = regions_df[indicator_mask][last_year]"
   ]
  },
  {
   "cell_type": "code",
   "execution_count": 41,
   "metadata": {},
   "outputs": [
    {
     "data": {
      "text/html": [
       "<div>\n",
       "<style scoped>\n",
       "    .dataframe tbody tr th:only-of-type {\n",
       "        vertical-align: middle;\n",
       "    }\n",
       "\n",
       "    .dataframe tbody tr th {\n",
       "        vertical-align: top;\n",
       "    }\n",
       "\n",
       "    .dataframe thead th {\n",
       "        text-align: right;\n",
       "    }\n",
       "</style>\n",
       "<table border=\"1\" class=\"dataframe\">\n",
       "  <thead>\n",
       "    <tr style=\"text-align: right;\">\n",
       "      <th></th>\n",
       "      <th>2019</th>\n",
       "    </tr>\n",
       "    <tr>\n",
       "      <th>Country Name</th>\n",
       "      <th></th>\n",
       "    </tr>\n",
       "  </thead>\n",
       "  <tbody>\n",
       "    <tr>\n",
       "      <th>South Asia</th>\n",
       "      <td>4.142922</td>\n",
       "    </tr>\n",
       "  </tbody>\n",
       "</table>\n",
       "</div>"
      ],
      "text/plain": [
       "                  2019\n",
       "Country Name          \n",
       "South Asia    4.142922"
      ]
     },
     "execution_count": 41,
     "metadata": {},
     "output_type": "execute_result"
    }
   ],
   "source": [
    "# Maximum \n",
    "maximum_indicator = regions_indicator[\"2019\"].max()\n",
    "max_bool = regions_indicator.apply(lambda x: x == maximum_indicator).to_numpy()\n",
    "max_indices = np.nonzero(max_bool)[0]\n",
    "regions_indicator.iloc[max_indices]"
   ]
  },
  {
   "cell_type": "code",
   "execution_count": 42,
   "metadata": {},
   "outputs": [
    {
     "data": {
      "text/html": [
       "<div>\n",
       "<style scoped>\n",
       "    .dataframe tbody tr th:only-of-type {\n",
       "        vertical-align: middle;\n",
       "    }\n",
       "\n",
       "    .dataframe tbody tr th {\n",
       "        vertical-align: top;\n",
       "    }\n",
       "\n",
       "    .dataframe thead th {\n",
       "        text-align: right;\n",
       "    }\n",
       "</style>\n",
       "<table border=\"1\" class=\"dataframe\">\n",
       "  <thead>\n",
       "    <tr style=\"text-align: right;\">\n",
       "      <th></th>\n",
       "      <th>2019</th>\n",
       "    </tr>\n",
       "    <tr>\n",
       "      <th>Country Name</th>\n",
       "      <th></th>\n",
       "    </tr>\n",
       "  </thead>\n",
       "  <tbody>\n",
       "    <tr>\n",
       "      <th>Middle East &amp; North Africa</th>\n",
       "      <td>0.470052</td>\n",
       "    </tr>\n",
       "  </tbody>\n",
       "</table>\n",
       "</div>"
      ],
      "text/plain": [
       "                                2019\n",
       "Country Name                        \n",
       "Middle East & North Africa  0.470052"
      ]
     },
     "execution_count": 42,
     "metadata": {},
     "output_type": "execute_result"
    }
   ],
   "source": [
    "# Maximum \n",
    "maximum_indicator = regions_indicator[\"2019\"].min()\n",
    "max_bool = regions_indicator.apply(lambda x: x == maximum_indicator).to_numpy()\n",
    "max_indices = np.nonzero(max_bool)[0]\n",
    "regions_indicator.iloc[max_indices]"
   ]
  },
  {
   "cell_type": "code",
   "execution_count": 43,
   "metadata": {},
   "outputs": [],
   "source": [
    "# World Average "
   ]
  },
  {
   "cell_type": "code",
   "execution_count": 44,
   "metadata": {},
   "outputs": [],
   "source": [
    "# Function \n",
    "def find_indices_with_value(check_series, value):\n",
    "    \"\"\"This function returns the indices in dataframe having \n",
    "    a certain value in them \n",
    "    \"\"\"\n",
    "    value_bool = check_series.apply(lambda item: item == value).to_numpy()\n",
    "    indices = np.nonzero(value_bool)[0]\n",
    "    return indices"
   ]
  },
  {
   "cell_type": "code",
   "execution_count": 45,
   "metadata": {},
   "outputs": [],
   "source": [
    "def indictor_analysis(region_df, indicator_name, latest_year=\"2019\"):\n",
    "    \"\"\"This function returns a dataframe with the requried information \"\"\"\n",
    "    # Masks \n",
    "    world_mask = region_df[\"Country Code\"] == \"WLD\"\n",
    "    indicator_mask = region_df['Indicator Code'] == indicator_name\n",
    "\n",
    "    # Reduced DataFrame\n",
    "    df_indicator = region_df[indicator_mask & ~world_mask]\n",
    "    try:\n",
    "        df_indicator = df_indicator.set_index('Country Name')\n",
    "    except KeyError:\n",
    "        print(\"Using an indexed df or Country Name missing\")\n",
    "        \n",
    "    df_indicator_last_year = df_indicator[latest_year]\n",
    "\n",
    "    # Maximum Indices \n",
    "    maximum_indices = find_indices_with_value(df_indicator_last_year, df_indicator_last_year.max()) \n",
    "    df_max = df_indicator_last_year.iloc[maximum_indices]\n",
    "    \n",
    "    \n",
    "    # Minimum Indices = \n",
    "    minimum_indices = find_indices_with_value(df_indicator_last_year, df_indicator_last_year.min())\n",
    "    df_min = df_indicator_last_year.iloc[minimum_indices]\n",
    "\n",
    "    # World \n",
    "    try:\n",
    "        df_world = region_df[world_mask][indicator_mask]\n",
    "    except ValueError:\n",
    "        df_world = region_df[indicator_mask & world_mask][latest_year]\n",
    "        \n",
    "        \n",
    "    \n",
    "    return df_max, df_min, df_world"
   ]
  },
  {
   "cell_type": "code",
   "execution_count": 46,
   "metadata": {},
   "outputs": [
    {
     "name": "stdout",
     "output_type": "stream",
     "text": [
      "Using an indexed df or Country Name missing\n"
     ]
    },
    {
     "name": "stderr",
     "output_type": "stream",
     "text": [
      "C:\\Users\\bella\\anaconda3\\lib\\site-packages\\ipykernel_launcher.py:27: UserWarning: Boolean Series key will be reindexed to match DataFrame index.\n"
     ]
    }
   ],
   "source": [
    "df_max, df_min, df_world = indictor_analysis(regions_df, economic_growth_indicator)"
   ]
  },
  {
   "cell_type": "code",
   "execution_count": 47,
   "metadata": {},
   "outputs": [
    {
     "data": {
      "text/plain": [
       "Country Name\n",
       "World    2.343378\n",
       "Name: 2019, dtype: float64"
      ]
     },
     "execution_count": 47,
     "metadata": {},
     "output_type": "execute_result"
    }
   ],
   "source": [
    "df_world"
   ]
  },
  {
   "cell_type": "markdown",
   "metadata": {},
   "source": [
    "### Economic Growth "
   ]
  },
  {
   "cell_type": "code",
   "execution_count": 48,
   "metadata": {},
   "outputs": [
    {
     "name": "stdout",
     "output_type": "stream",
     "text": [
      "Using an indexed df or Country Name missing\n"
     ]
    },
    {
     "name": "stderr",
     "output_type": "stream",
     "text": [
      "C:\\Users\\bella\\anaconda3\\lib\\site-packages\\ipykernel_launcher.py:27: UserWarning: Boolean Series key will be reindexed to match DataFrame index.\n"
     ]
    }
   ],
   "source": [
    "# Economic Growth Indicator \n",
    "df_max, df_min, df_world = indictor_analysis(regions_df, economic_growth_indicator)"
   ]
  },
  {
   "cell_type": "code",
   "execution_count": 49,
   "metadata": {},
   "outputs": [
    {
     "data": {
      "text/plain": [
       "Country Name\n",
       "South Asia    4.142922\n",
       "Name: 2019, dtype: float64"
      ]
     },
     "execution_count": 49,
     "metadata": {},
     "output_type": "execute_result"
    }
   ],
   "source": [
    "# Maximum \n",
    "df_max"
   ]
  },
  {
   "cell_type": "code",
   "execution_count": 50,
   "metadata": {},
   "outputs": [
    {
     "data": {
      "text/plain": [
       "Country Name\n",
       "Middle East & North Africa    0.470052\n",
       "Name: 2019, dtype: float64"
      ]
     },
     "execution_count": 50,
     "metadata": {},
     "output_type": "execute_result"
    }
   ],
   "source": [
    "# Minimun \n",
    "df_min \n"
   ]
  },
  {
   "cell_type": "code",
   "execution_count": 51,
   "metadata": {},
   "outputs": [
    {
     "data": {
      "text/plain": [
       "Country Name\n",
       "World    2.343378\n",
       "Name: 2019, dtype: float64"
      ]
     },
     "execution_count": 51,
     "metadata": {},
     "output_type": "execute_result"
    }
   ],
   "source": [
    "# World \n",
    "df_world"
   ]
  },
  {
   "cell_type": "markdown",
   "metadata": {},
   "source": [
    "### Gender"
   ]
  },
  {
   "cell_type": "code",
   "execution_count": 52,
   "metadata": {},
   "outputs": [
    {
     "name": "stdout",
     "output_type": "stream",
     "text": [
      "Using an indexed df or Country Name missing\n"
     ]
    },
    {
     "name": "stderr",
     "output_type": "stream",
     "text": [
      "C:\\Users\\bella\\anaconda3\\lib\\site-packages\\ipykernel_launcher.py:27: UserWarning: Boolean Series key will be reindexed to match DataFrame index.\n"
     ]
    }
   ],
   "source": [
    "# Economic Growth Indicator \n",
    "df_max, df_min, df_world = indictor_analysis(regions_df, gender_indicator)"
   ]
  },
  {
   "cell_type": "code",
   "execution_count": 53,
   "metadata": {},
   "outputs": [
    {
     "data": {
      "text/plain": [
       "Country Name\n",
       "Europe & Central Asia    4.1\n",
       "Name: 2019, dtype: float64"
      ]
     },
     "execution_count": 53,
     "metadata": {},
     "output_type": "execute_result"
    }
   ],
   "source": [
    "# Maximum \n",
    "df_max"
   ]
  },
  {
   "cell_type": "code",
   "execution_count": 54,
   "metadata": {},
   "outputs": [
    {
     "data": {
      "text/plain": [
       "Country Name\n",
       "Middle East & North Africa    2.25\n",
       "Name: 2019, dtype: float64"
      ]
     },
     "execution_count": 54,
     "metadata": {},
     "output_type": "execute_result"
    }
   ],
   "source": [
    "# Minimun \n",
    "df_min \n"
   ]
  },
  {
   "cell_type": "code",
   "execution_count": 55,
   "metadata": {},
   "outputs": [
    {
     "data": {
      "text/plain": [
       "Country Name\n",
       "World    3.253333\n",
       "Name: 2019, dtype: float64"
      ]
     },
     "execution_count": 55,
     "metadata": {},
     "output_type": "execute_result"
    }
   ],
   "source": [
    "# World \n",
    "df_world"
   ]
  },
  {
   "cell_type": "markdown",
   "metadata": {},
   "source": [
    "### Education "
   ]
  },
  {
   "cell_type": "code",
   "execution_count": 56,
   "metadata": {},
   "outputs": [
    {
     "name": "stdout",
     "output_type": "stream",
     "text": [
      "Using an indexed df or Country Name missing\n"
     ]
    },
    {
     "name": "stderr",
     "output_type": "stream",
     "text": [
      "C:\\Users\\bella\\anaconda3\\lib\\site-packages\\ipykernel_launcher.py:27: UserWarning: Boolean Series key will be reindexed to match DataFrame index.\n"
     ]
    }
   ],
   "source": [
    "# Economic Growth Indicator \n",
    "df_max, df_min, df_world = indictor_analysis(regions_df, education_indicator)"
   ]
  },
  {
   "cell_type": "code",
   "execution_count": 57,
   "metadata": {},
   "outputs": [
    {
     "data": {
      "text/plain": [
       "Country Name\n",
       "Europe & Central Asia    98.378967\n",
       "Name: 2019, dtype: float64"
      ]
     },
     "execution_count": 57,
     "metadata": {},
     "output_type": "execute_result"
    }
   ],
   "source": [
    "# Maximum \n",
    "df_max"
   ]
  },
  {
   "cell_type": "code",
   "execution_count": 58,
   "metadata": {},
   "outputs": [
    {
     "data": {
      "text/plain": [
       "Country Name\n",
       "Sub-Saharan Africa    65.468613\n",
       "Name: 2019, dtype: float64"
      ]
     },
     "execution_count": 58,
     "metadata": {},
     "output_type": "execute_result"
    }
   ],
   "source": [
    "# Minimun \n",
    "df_min \n"
   ]
  },
  {
   "cell_type": "code",
   "execution_count": 59,
   "metadata": {},
   "outputs": [
    {
     "data": {
      "text/plain": [
       "Country Name\n",
       "World    86.478302\n",
       "Name: 2019, dtype: float64"
      ]
     },
     "execution_count": 59,
     "metadata": {},
     "output_type": "execute_result"
    }
   ],
   "source": [
    "# World \n",
    "df_world"
   ]
  },
  {
   "cell_type": "markdown",
   "metadata": {},
   "source": [
    "### Population "
   ]
  },
  {
   "cell_type": "code",
   "execution_count": 60,
   "metadata": {},
   "outputs": [
    {
     "name": "stdout",
     "output_type": "stream",
     "text": [
      "Using an indexed df or Country Name missing\n"
     ]
    },
    {
     "name": "stderr",
     "output_type": "stream",
     "text": [
      "C:\\Users\\bella\\anaconda3\\lib\\site-packages\\ipykernel_launcher.py:27: UserWarning: Boolean Series key will be reindexed to match DataFrame index.\n"
     ]
    }
   ],
   "source": [
    "# Economic Growth Indicator \n",
    "df_max, df_min, df_world = indictor_analysis(regions_df, population_indicator)"
   ]
  },
  {
   "cell_type": "code",
   "execution_count": 61,
   "metadata": {},
   "outputs": [
    {
     "data": {
      "text/plain": [
       "Country Name\n",
       "East Asia & Pacific    2.340628e+09\n",
       "Name: 2019, dtype: float64"
      ]
     },
     "execution_count": 61,
     "metadata": {},
     "output_type": "execute_result"
    }
   ],
   "source": [
    "# Maximum \n",
    "df_max"
   ]
  },
  {
   "cell_type": "code",
   "execution_count": 62,
   "metadata": {},
   "outputs": [
    {
     "data": {
      "text/plain": [
       "Country Name\n",
       "Pacific island small states    2493696.0\n",
       "Name: 2019, dtype: float64"
      ]
     },
     "execution_count": 62,
     "metadata": {},
     "output_type": "execute_result"
    }
   ],
   "source": [
    "# Minimun \n",
    "df_min \n"
   ]
  },
  {
   "cell_type": "code",
   "execution_count": 63,
   "metadata": {},
   "outputs": [
    {
     "data": {
      "text/plain": [
       "Country Name\n",
       "World    7.673534e+09\n",
       "Name: 2019, dtype: float64"
      ]
     },
     "execution_count": 63,
     "metadata": {},
     "output_type": "execute_result"
    }
   ],
   "source": [
    "# World \n",
    "df_world"
   ]
  },
  {
   "cell_type": "markdown",
   "metadata": {},
   "source": [
    "### Wealth Distribution"
   ]
  },
  {
   "cell_type": "code",
   "execution_count": 64,
   "metadata": {},
   "outputs": [
    {
     "name": "stdout",
     "output_type": "stream",
     "text": [
      "Using an indexed df or Country Name missing\n"
     ]
    },
    {
     "name": "stderr",
     "output_type": "stream",
     "text": [
      "C:\\Users\\bella\\anaconda3\\lib\\site-packages\\ipykernel_launcher.py:27: UserWarning: Boolean Series key will be reindexed to match DataFrame index.\n"
     ]
    }
   ],
   "source": [
    "# Economic Growth Indicator \n",
    "df_max, df_min, df_world = indictor_analysis(regions_df, wealth_distribution)"
   ]
  },
  {
   "cell_type": "code",
   "execution_count": 65,
   "metadata": {},
   "outputs": [
    {
     "data": {
      "text/plain": [
       "Series([], Name: 2019, dtype: float64)"
      ]
     },
     "execution_count": 65,
     "metadata": {},
     "output_type": "execute_result"
    }
   ],
   "source": [
    "# Maximum \n",
    "df_max"
   ]
  },
  {
   "cell_type": "code",
   "execution_count": 66,
   "metadata": {},
   "outputs": [
    {
     "data": {
      "text/plain": [
       "Series([], Name: 2019, dtype: float64)"
      ]
     },
     "execution_count": 66,
     "metadata": {},
     "output_type": "execute_result"
    }
   ],
   "source": [
    "# Minimun \n",
    "df_min \n"
   ]
  },
  {
   "cell_type": "code",
   "execution_count": 67,
   "metadata": {},
   "outputs": [
    {
     "data": {
      "text/plain": [
       "Country Name\n",
       "World   NaN\n",
       "Name: 2019, dtype: float64"
      ]
     },
     "execution_count": 67,
     "metadata": {},
     "output_type": "execute_result"
    }
   ],
   "source": [
    "# World \n",
    "df_world"
   ]
  },
  {
   "cell_type": "code",
   "execution_count": 68,
   "metadata": {},
   "outputs": [],
   "source": [
    "# These Values are nan for all these values\n",
    "# Try other indicator"
   ]
  },
  {
   "cell_type": "markdown",
   "metadata": {},
   "source": [
    "## Unpopular (Interesting indicators)\n",
    "* Identify some unpopular indicators that have data in them\n",
    "* Identified from the entire list of indicators\n",
    "    * SH.ALC.PCAP.LI\t=> Total alcohol consumption per capita (liters of pure alcohol, projected estimates, 15+ years of age)\n",
    "    * ST.INT.ARVL\tInternational tourism, number of arrivals\n",
    "    * SP.URB.TOTL.IN.ZS Urban Population(% of total population)\n",
    "    * SP.POP.SCIE.RD.P6\tResearchers in R&D (per million people)\n",
    "    * SH.STA.DIAB.ZS\tDiabetes prevalence (% of population ages 20 to 79)"
   ]
  },
  {
   "cell_type": "code",
   "execution_count": 69,
   "metadata": {},
   "outputs": [],
   "source": [
    "# Unpopular Indicators\n",
    "unpopular_indicators = {\n",
    "    \"alcohol\":\"SH.ALC.PCAP.LI\",\n",
    "    \"tourism\":\"ST.INT.ARVL\",\n",
    "    \"urban_population\":\"SP.URB.TOTL.IN.ZS\",\n",
    "    \"researchers\":\"SP.POP.SCIE.RD.P6\",\n",
    "    \"diabetes\":\"SH.STA.DIAB.ZS\"\n",
    "}"
   ]
  },
  {
   "cell_type": "code",
   "execution_count": 70,
   "metadata": {},
   "outputs": [
    {
     "data": {
      "text/plain": [
       "['SH.ALC.PCAP.LI',\n",
       " 'ST.INT.ARVL',\n",
       " 'SP.URB.TOTL.IN.ZS',\n",
       " 'SP.POP.SCIE.RD.P6',\n",
       " 'SH.STA.DIAB.ZS']"
      ]
     },
     "execution_count": 70,
     "metadata": {},
     "output_type": "execute_result"
    }
   ],
   "source": [
    "unpopular_indicators_array = list(unpopular_indicators.values())\n",
    "unpopular_indicators_array"
   ]
  },
  {
   "cell_type": "code",
   "execution_count": 71,
   "metadata": {},
   "outputs": [],
   "source": [
    "# Function \n",
    "# Create a dataset for an indicator \n",
    "def create_indicator_dataset(df, indicator_code):\n",
    "    \"\"\"This function returns a dataset filtered for an indicator\"\"\"\n",
    "    # Mask \n",
    "    indicator_mask = df[\"Indicator Code\"] == indicator_code\n",
    "    \n",
    "    # Dataser filtering \n",
    "    filtered_dataset = df[indicator_mask]\n",
    "    return filtered_dataset"
   ]
  },
  {
   "cell_type": "code",
   "execution_count": 72,
   "metadata": {},
   "outputs": [],
   "source": [
    "# Unpopular Indicator Dataset \n",
    "indicator = unpopular_indicators[\"diabetes\"]\n",
    "alcohol_df = create_indicator_dataset(df, indicator)\n",
    "alcohol_df_nan = alcohol_df.isna()"
   ]
  },
  {
   "cell_type": "code",
   "execution_count": 73,
   "metadata": {
    "scrolled": true
   },
   "outputs": [
    {
     "name": "stdout",
     "output_type": "stream",
     "text": [
      "<class 'pandas.core.frame.DataFrame'>\n",
      "Int64Index: 217 entries, 67747 to 377707\n",
      "Data columns (total 66 columns):\n",
      " #   Column          Non-Null Count  Dtype  \n",
      "---  ------          --------------  -----  \n",
      " 0   Country Name    217 non-null    object \n",
      " 1   Country Code    217 non-null    object \n",
      " 2   Indicator Name  217 non-null    object \n",
      " 3   Indicator Code  217 non-null    object \n",
      " 4   1960            0 non-null      float64\n",
      " 5   1961            0 non-null      float64\n",
      " 6   1962            0 non-null      float64\n",
      " 7   1963            0 non-null      float64\n",
      " 8   1964            0 non-null      float64\n",
      " 9   1965            0 non-null      float64\n",
      " 10  1966            0 non-null      float64\n",
      " 11  1967            0 non-null      float64\n",
      " 12  1968            0 non-null      float64\n",
      " 13  1969            0 non-null      float64\n",
      " 14  1970            0 non-null      float64\n",
      " 15  1971            0 non-null      float64\n",
      " 16  1972            0 non-null      float64\n",
      " 17  1973            0 non-null      float64\n",
      " 18  1974            0 non-null      float64\n",
      " 19  1975            0 non-null      float64\n",
      " 20  1976            0 non-null      float64\n",
      " 21  1977            0 non-null      float64\n",
      " 22  1978            0 non-null      float64\n",
      " 23  1979            0 non-null      float64\n",
      " 24  1980            0 non-null      float64\n",
      " 25  1981            0 non-null      float64\n",
      " 26  1982            0 non-null      float64\n",
      " 27  1983            0 non-null      float64\n",
      " 28  1984            0 non-null      float64\n",
      " 29  1985            0 non-null      float64\n",
      " 30  1986            0 non-null      float64\n",
      " 31  1987            0 non-null      float64\n",
      " 32  1988            0 non-null      float64\n",
      " 33  1989            0 non-null      float64\n",
      " 34  1990            0 non-null      float64\n",
      " 35  1991            0 non-null      float64\n",
      " 36  1992            0 non-null      float64\n",
      " 37  1993            0 non-null      float64\n",
      " 38  1994            0 non-null      float64\n",
      " 39  1995            0 non-null      float64\n",
      " 40  1996            0 non-null      float64\n",
      " 41  1997            0 non-null      float64\n",
      " 42  1998            0 non-null      float64\n",
      " 43  1999            0 non-null      float64\n",
      " 44  2000            0 non-null      float64\n",
      " 45  2001            0 non-null      float64\n",
      " 46  2002            0 non-null      float64\n",
      " 47  2003            0 non-null      float64\n",
      " 48  2004            0 non-null      float64\n",
      " 49  2005            0 non-null      float64\n",
      " 50  2006            0 non-null      float64\n",
      " 51  2007            0 non-null      float64\n",
      " 52  2008            0 non-null      float64\n",
      " 53  2009            0 non-null      float64\n",
      " 54  2010            205 non-null    float64\n",
      " 55  2011            0 non-null      float64\n",
      " 56  2012            0 non-null      float64\n",
      " 57  2013            0 non-null      float64\n",
      " 58  2014            0 non-null      float64\n",
      " 59  2015            0 non-null      float64\n",
      " 60  2016            0 non-null      float64\n",
      " 61  2017            0 non-null      float64\n",
      " 62  2018            0 non-null      float64\n",
      " 63  2019            210 non-null    float64\n",
      " 64  2020            0 non-null      float64\n",
      " 65  Unnamed: 65     0 non-null      float64\n",
      "dtypes: float64(62), object(4)\n",
      "memory usage: 113.6+ KB\n"
     ]
    },
    {
     "name": "stderr",
     "output_type": "stream",
     "text": [
      "C:\\Users\\bella\\anaconda3\\lib\\site-packages\\ipykernel_launcher.py:1: UserWarning: Boolean Series key will be reindexed to match DataFrame index.\n",
      "  \"\"\"Entry point for launching an IPython kernel.\n"
     ]
    }
   ],
   "source": [
    "alcohol_df[country_only_mask].info()"
   ]
  },
  {
   "cell_type": "code",
   "execution_count": 74,
   "metadata": {},
   "outputs": [
    {
     "name": "stderr",
     "output_type": "stream",
     "text": [
      "C:\\Users\\bella\\anaconda3\\lib\\site-packages\\ipykernel_launcher.py:27: UserWarning: Boolean Series key will be reindexed to match DataFrame index.\n"
     ]
    }
   ],
   "source": [
    "df_max, df_min, df_world = indictor_analysis(df[country_only_mask], indicator)"
   ]
  },
  {
   "cell_type": "code",
   "execution_count": 75,
   "metadata": {},
   "outputs": [
    {
     "data": {
      "text/plain": [
       "Country Name\n",
       "Marshall Islands    30.5\n",
       "Name: 2019, dtype: float64"
      ]
     },
     "execution_count": 75,
     "metadata": {},
     "output_type": "execute_result"
    }
   ],
   "source": [
    "df_max"
   ]
  },
  {
   "cell_type": "code",
   "execution_count": 76,
   "metadata": {},
   "outputs": [
    {
     "data": {
      "text/plain": [
       "Country Name\n",
       "Benin    1.0\n",
       "Name: 2019, dtype: float64"
      ]
     },
     "execution_count": 76,
     "metadata": {},
     "output_type": "execute_result"
    }
   ],
   "source": [
    "df_min"
   ]
  },
  {
   "cell_type": "markdown",
   "metadata": {},
   "source": [
    "* Alocohol -> Latest Date => 2018 => 187 coutries\n",
    "* Tourism -> Latest Date => Default => 172 countries\n",
    "* Urban Population -> Latest Date => 214 countries\n",
    "* Researchers -> Latest Date => 59 countries // Cancel n_researchers\n",
    "* Diabetes -> Latest Date => 210 countries\n",
    "\n",
    "**FINAL LIST**\n",
    "* ALCOHOL\n",
    "* TOURISM\n",
    "* URBAN POPULATION \n",
    "* DIABETES"
   ]
  },
  {
   "cell_type": "markdown",
   "metadata": {},
   "source": [
    "## Popular Section\n",
    "**A List of Popular Indicators and the top in them**\n",
    "\n",
    "* Inflation => FP.CPI.TOTL.ZG\n",
    "* GDP per captia => NY.GDP.PCAP.PP.CD\n",
    "* GDP per capita PPP => NY.GDP.MKTP.PP.CD\n",
    "* Literacy Rates => SE.ADT.LITR.ZS\n",
    "* Poverty Rate (1.90 dollars)=> SI.POV.DDAY\n",
    "* Poverty Rate (3.10 dollars/day) => SI.POV.2DAY\n",
    "* Population, total => SP.POP.TOTL\n",
    "* Life Expectancy at birth => SP.DYN.LE00.IN\n"
   ]
  },
  {
   "cell_type": "code",
   "execution_count": 77,
   "metadata": {},
   "outputs": [],
   "source": [
    "# Get a dataeset and min max for each indicator to test if they are right \n",
    "POPULAR_INDICATORS = {\n",
    "    \"inflation\":\"FP.CPI.TOTL.ZG\",\n",
    "    \"gdp_per_capita\":\"NY.GDP.PCAP.CD\",\n",
    "    \"gdp_per_capita_PPP\":\"NY.GDP.PCAP.PP.CD\", \n",
    "    \"gni\": \"NY.GNP.MKTP.CD\",# At 2010 constant US prices\n",
    "    \"gni_per_capita_PPP\":\"NY.GNP.PCAP.PP.CD\",\n",
    "    \"poverty_rate_1\":\"SI.POV.DDAY\",\n",
    "    \"poverty_rate_2\":\"SI.POV.2DAY\",\n",
    "    \"population\":\"SP.POP.TOTL\",\n",
    "    \"life_expectancy\":\"SP.DYN.LE00.IN\", \n",
    "    \"exchange_rate\":\"PA.NUS.FCRF\",\n",
    "    \"gini\":\"SI.POV.GINI\"\n",
    "}"
   ]
  },
  {
   "cell_type": "code",
   "execution_count": 78,
   "metadata": {},
   "outputs": [
    {
     "data": {
      "text/plain": [
       "['FP.CPI.TOTL.ZG',\n",
       " 'NY.GDP.PCAP.CD',\n",
       " 'NY.GDP.PCAP.PP.CD',\n",
       " 'NY.GNP.MKTP.CD',\n",
       " 'NY.GNP.PCAP.PP.CD',\n",
       " 'SI.POV.DDAY',\n",
       " 'SI.POV.2DAY',\n",
       " 'SP.POP.TOTL',\n",
       " 'SP.DYN.LE00.IN',\n",
       " 'PA.NUS.FCRF',\n",
       " 'SI.POV.GINI']"
      ]
     },
     "execution_count": 78,
     "metadata": {},
     "output_type": "execute_result"
    }
   ],
   "source": [
    "popular_indicators_array = list(POPULAR_INDICATORS.values())\n",
    "popular_indicators_array"
   ]
  },
  {
   "cell_type": "code",
   "execution_count": 79,
   "metadata": {
    "scrolled": true
   },
   "outputs": [
    {
     "name": "stdout",
     "output_type": "stream",
     "text": [
      "<class 'pandas.core.frame.DataFrame'>\n",
      "Int64Index: 217 entries, 67939 to 377899\n",
      "Data columns (total 66 columns):\n",
      " #   Column          Non-Null Count  Dtype  \n",
      "---  ------          --------------  -----  \n",
      " 0   Country Name    217 non-null    object \n",
      " 1   Country Code    217 non-null    object \n",
      " 2   Indicator Name  217 non-null    object \n",
      " 3   Indicator Code  217 non-null    object \n",
      " 4   1960            86 non-null     float64\n",
      " 5   1961            87 non-null     float64\n",
      " 6   1962            90 non-null     float64\n",
      " 7   1963            90 non-null     float64\n",
      " 8   1964            91 non-null     float64\n",
      " 9   1965            98 non-null     float64\n",
      " 10  1966            102 non-null    float64\n",
      " 11  1967            106 non-null    float64\n",
      " 12  1968            107 non-null    float64\n",
      " 13  1969            107 non-null    float64\n",
      " 14  1970            116 non-null    float64\n",
      " 15  1971            116 non-null    float64\n",
      " 16  1972            117 non-null    float64\n",
      " 17  1973            119 non-null    float64\n",
      " 18  1974            119 non-null    float64\n",
      " 19  1975            117 non-null    float64\n",
      " 20  1976            120 non-null    float64\n",
      " 21  1977            124 non-null    float64\n",
      " 22  1978            125 non-null    float64\n",
      " 23  1979            126 non-null    float64\n",
      " 24  1980            136 non-null    float64\n",
      " 25  1981            139 non-null    float64\n",
      " 26  1982            140 non-null    float64\n",
      " 27  1983            141 non-null    float64\n",
      " 28  1984            142 non-null    float64\n",
      " 29  1985            144 non-null    float64\n",
      " 30  1986            146 non-null    float64\n",
      " 31  1987            146 non-null    float64\n",
      " 32  1988            147 non-null    float64\n",
      " 33  1989            152 non-null    float64\n",
      " 34  1990            159 non-null    float64\n",
      " 35  1991            159 non-null    float64\n",
      " 36  1992            162 non-null    float64\n",
      " 37  1993            168 non-null    float64\n",
      " 38  1994            171 non-null    float64\n",
      " 39  1995            180 non-null    float64\n",
      " 40  1996            180 non-null    float64\n",
      " 41  1997            181 non-null    float64\n",
      " 42  1998            183 non-null    float64\n",
      " 43  1999            183 non-null    float64\n",
      " 44  2000            190 non-null    float64\n",
      " 45  2001            190 non-null    float64\n",
      " 46  2002            192 non-null    float64\n",
      " 47  2003            192 non-null    float64\n",
      " 48  2004            194 non-null    float64\n",
      " 49  2005            194 non-null    float64\n",
      " 50  2006            195 non-null    float64\n",
      " 51  2007            196 non-null    float64\n",
      " 52  2008            193 non-null    float64\n",
      " 53  2009            194 non-null    float64\n",
      " 54  2010            196 non-null    float64\n",
      " 55  2011            199 non-null    float64\n",
      " 56  2012            198 non-null    float64\n",
      " 57  2013            198 non-null    float64\n",
      " 58  2014            199 non-null    float64\n",
      " 59  2015            198 non-null    float64\n",
      " 60  2016            197 non-null    float64\n",
      " 61  2017            196 non-null    float64\n",
      " 62  2018            192 non-null    float64\n",
      " 63  2019            182 non-null    float64\n",
      " 64  2020            0 non-null      float64\n",
      " 65  Unnamed: 65     0 non-null      float64\n",
      "dtypes: float64(62), object(4)\n",
      "memory usage: 113.6+ KB\n"
     ]
    },
    {
     "name": "stderr",
     "output_type": "stream",
     "text": [
      "C:\\Users\\bella\\anaconda3\\lib\\site-packages\\ipykernel_launcher.py:2: UserWarning: Boolean Series key will be reindexed to match DataFrame index.\n",
      "  \n"
     ]
    }
   ],
   "source": [
    "indicator = POPULAR_INDICATORS[\"gni\"]\n",
    "df_indicator = create_indicator_dataset(df, indicator)[country_only_mask]\n",
    "df_indicator.info()"
   ]
  },
  {
   "cell_type": "code",
   "execution_count": 80,
   "metadata": {},
   "outputs": [
    {
     "name": "stderr",
     "output_type": "stream",
     "text": [
      "C:\\Users\\bella\\anaconda3\\lib\\site-packages\\ipykernel_launcher.py:27: UserWarning: Boolean Series key will be reindexed to match DataFrame index.\n"
     ]
    }
   ],
   "source": [
    "df_max, df_min, df_world = indictor_analysis(df_indicator, indicator, \"2018\")"
   ]
  },
  {
   "cell_type": "code",
   "execution_count": 81,
   "metadata": {},
   "outputs": [
    {
     "data": {
      "text/plain": [
       "Country Name\n",
       "United States    2.083735e+13\n",
       "Name: 2018, dtype: float64"
      ]
     },
     "execution_count": 81,
     "metadata": {},
     "output_type": "execute_result"
    }
   ],
   "source": [
    "df_max"
   ]
  },
  {
   "cell_type": "code",
   "execution_count": 82,
   "metadata": {},
   "outputs": [
    {
     "data": {
      "text/plain": [
       "Country Name\n",
       "Tuvalu    6.410789e+07\n",
       "Name: 2018, dtype: float64"
      ]
     },
     "execution_count": 82,
     "metadata": {},
     "output_type": "execute_result"
    }
   ],
   "source": [
    "df_min"
   ]
  },
  {
   "cell_type": "markdown",
   "metadata": {},
   "source": [
    "* Inflation => 161 countries => Default Date\n",
    "* GDP per capita => 186 => default date\n",
    "* GDP per capita PPP => 189=> default Date\n",
    "* GNI => 182 => default Date\n",
    "* GNI, per capita, PPP (at 2010 constant prices)=>  180 values\n",
    "* Poverty below 1.90 dollars/day => default Day (only 22) // DONT CONSIDER\n",
    "* Poverty below 3.10 dollars/day => defauly day (no values) // DONT CONSIDER\n",
    "* Population => deault day => 216 values \n",
    "* Life expectancy => \"2018 => 198 values\n",
    "* Exchange Rate => default day => 173 values\n",
    "* GINI -> default day => 52 values // DONT CONSIDER\n",
    "\n",
    "**Final List**\n",
    "* Inflation\n",
    "* GDP per capita\n",
    "* GDP per capita PPP\n",
    "* GNI \n",
    "* GNI per capita, 2010 constant prices\n",
    "* POpulation \n",
    "* Life expectance \n",
    "* Exchange Rate\n"
   ]
  },
  {
   "cell_type": "markdown",
   "metadata": {},
   "source": [
    "## In-Depth Exploration of a country\n",
    "* Important Indicators (as a time Series) \n",
    "    * Economic Indicators\n",
    "        * GDP => FP.CPI.TOTL.ZG\n",
    "        * GDP per capita => NY.GDP.PCAP.CD\n",
    "        * GDP per capita PPP => NY.GDP.PCAP.PP.CD\n",
    "        * GNI per capita => NY.GNP.MKTP.CD\n",
    "        * Inflation Rate => FP.CPI.TOTL.ZG\n",
    "    \n",
    "    * Social Indicators \n",
    "        * Life Expectancy => SP.DYN.LE00.IN\n",
    "    \n",
    "    * Environment \n",
    "        * CO2 emissions => EN.ATM.CO2E.KT\n",
    "        \n",
    "    * Trade Balance\n",
    "        * Imports => NE.IMP.GNFS.CD\n",
    "        * Imports Growth => NE.IMP.GNFS.KD.ZG\n",
    "        * Exports => NE.EXP.GNFS.CD\n",
    "        * Exports growth => NE.EXP.GNFS.KD.ZG\n",
    "    "
   ]
  },
  {
   "cell_type": "code",
   "execution_count": 83,
   "metadata": {},
   "outputs": [],
   "source": [
    "# IN-DEPTH EXPLORATION\n",
    "INDEPTH_EXPLORATION = {\n",
    "    \"gdp\":\"FP.CPI.TOTL.ZG\", \n",
    "    \"gdp_per_capita\":\"NY.GDP.PCAP.CD\",\n",
    "    \"gdp_per_capita_PPP\":\"NY.GDP.PCAP.PP.CD\", \n",
    "    \"gni_per_caita\":\"NY.GNP.MKTP.CD\", \n",
    "    \"inflation\":\"FP.CPI.TOTL.ZG\",\n",
    "    \"life_expectancy\":\"SP.DYN.LE00.IN\",\n",
    "    \"co2\":\"EN.ATM.CO2E.KT\", \n",
    "    \"imports\":\"NE.IMP.GNFS.CD\", \n",
    "    \"imports_growth\":\" NE.IMP.GNFS.KD.ZG\", # Cancel\n",
    "    \"exports\":\"NE.EXP.GNFS.CD\", \n",
    "    \"exports_growth\":\"NE.EXP.GNFS.KD.ZG\"\n",
    "}"
   ]
  },
  {
   "cell_type": "code",
   "execution_count": 84,
   "metadata": {},
   "outputs": [],
   "source": [
    "FINAL_INDEPTH_EXPLORATION = {\n",
    "    \"gdp\":\"FP.CPI.TOTL.ZG\", \n",
    "    \"gdp_per_capita\":\"NY.GDP.PCAP.CD\",\n",
    "    \"gdp_per_capita_PPP\":\"NY.GDP.PCAP.PP.CD\", \n",
    "    \"gni_per_caita\":\"NY.GNP.MKTP.CD\", \n",
    "    \"inflation\":\"FP.CPI.TOTL.ZG\",\n",
    "    \"life_expectancy\":\"SP.DYN.LE00.IN\",\n",
    "    \"co2\":\"EN.ATM.CO2E.KT\", \n",
    "    \"imports\":\"NE.IMP.GNFS.CD\", \n",
    "    \"exports\":\"NE.EXP.GNFS.CD\", \n",
    "    \"exports_growth\":\"NE.EXP.GNFS.KD.ZG\"\n",
    "}"
   ]
  },
  {
   "cell_type": "code",
   "execution_count": 85,
   "metadata": {},
   "outputs": [
    {
     "data": {
      "text/plain": [
       "['FP.CPI.TOTL.ZG',\n",
       " 'NY.GDP.PCAP.CD',\n",
       " 'NY.GDP.PCAP.PP.CD',\n",
       " 'NY.GNP.MKTP.CD',\n",
       " 'FP.CPI.TOTL.ZG',\n",
       " 'SP.DYN.LE00.IN',\n",
       " 'EN.ATM.CO2E.KT',\n",
       " 'NE.IMP.GNFS.CD',\n",
       " 'NE.EXP.GNFS.CD',\n",
       " 'NE.EXP.GNFS.KD.ZG']"
      ]
     },
     "execution_count": 85,
     "metadata": {},
     "output_type": "execute_result"
    }
   ],
   "source": [
    "indepth_exploration_array = list(FINAL_INDEPTH_EXPLORATION.values())\n",
    "indepth_exploration_array"
   ]
  },
  {
   "cell_type": "code",
   "execution_count": 86,
   "metadata": {},
   "outputs": [
    {
     "name": "stdout",
     "output_type": "stream",
     "text": [
      "<class 'pandas.core.frame.DataFrame'>\n",
      "Int64Index: 217 entries, 68141 to 378101\n",
      "Data columns (total 66 columns):\n",
      " #   Column          Non-Null Count  Dtype  \n",
      "---  ------          --------------  -----  \n",
      " 0   Country Name    217 non-null    object \n",
      " 1   Country Code    217 non-null    object \n",
      " 2   Indicator Name  217 non-null    object \n",
      " 3   Indicator Code  217 non-null    object \n",
      " 4   1960            189 non-null    float64\n",
      " 5   1961            190 non-null    float64\n",
      " 6   1962            190 non-null    float64\n",
      " 7   1963            189 non-null    float64\n",
      " 8   1964            189 non-null    float64\n",
      " 9   1965            190 non-null    float64\n",
      " 10  1966            190 non-null    float64\n",
      " 11  1967            190 non-null    float64\n",
      " 12  1968            190 non-null    float64\n",
      " 13  1969            190 non-null    float64\n",
      " 14  1970            191 non-null    float64\n",
      " 15  1971            190 non-null    float64\n",
      " 16  1972            190 non-null    float64\n",
      " 17  1973            191 non-null    float64\n",
      " 18  1974            190 non-null    float64\n",
      " 19  1975            190 non-null    float64\n",
      " 20  1976            190 non-null    float64\n",
      " 21  1977            190 non-null    float64\n",
      " 22  1978            192 non-null    float64\n",
      " 23  1979            191 non-null    float64\n",
      " 24  1980            193 non-null    float64\n",
      " 25  1981            193 non-null    float64\n",
      " 26  1982            196 non-null    float64\n",
      " 27  1983            194 non-null    float64\n",
      " 28  1984            194 non-null    float64\n",
      " 29  1985            194 non-null    float64\n",
      " 30  1986            195 non-null    float64\n",
      " 31  1987            198 non-null    float64\n",
      " 32  1988            195 non-null    float64\n",
      " 33  1989            195 non-null    float64\n",
      " 34  1990            197 non-null    float64\n",
      " 35  1991            198 non-null    float64\n",
      " 36  1992            198 non-null    float64\n",
      " 37  1993            196 non-null    float64\n",
      " 38  1994            198 non-null    float64\n",
      " 39  1995            198 non-null    float64\n",
      " 40  1996            197 non-null    float64\n",
      " 41  1997            200 non-null    float64\n",
      " 42  1998            197 non-null    float64\n",
      " 43  1999            198 non-null    float64\n",
      " 44  2000            201 non-null    float64\n",
      " 45  2001            199 non-null    float64\n",
      " 46  2002            202 non-null    float64\n",
      " 47  2003            199 non-null    float64\n",
      " 48  2004            199 non-null    float64\n",
      " 49  2005            200 non-null    float64\n",
      " 50  2006            200 non-null    float64\n",
      " 51  2007            201 non-null    float64\n",
      " 52  2008            201 non-null    float64\n",
      " 53  2009            201 non-null    float64\n",
      " 54  2010            200 non-null    float64\n",
      " 55  2011            200 non-null    float64\n",
      " 56  2012            202 non-null    float64\n",
      " 57  2013            200 non-null    float64\n",
      " 58  2014            201 non-null    float64\n",
      " 59  2015            201 non-null    float64\n",
      " 60  2016            201 non-null    float64\n",
      " 61  2017            199 non-null    float64\n",
      " 62  2018            198 non-null    float64\n",
      " 63  2019            0 non-null      float64\n",
      " 64  2020            0 non-null      float64\n",
      " 65  Unnamed: 65     0 non-null      float64\n",
      "dtypes: float64(62), object(4)\n",
      "memory usage: 113.6+ KB\n"
     ]
    },
    {
     "name": "stderr",
     "output_type": "stream",
     "text": [
      "C:\\Users\\bella\\anaconda3\\lib\\site-packages\\ipykernel_launcher.py:3: UserWarning: Boolean Series key will be reindexed to match DataFrame index.\n",
      "  This is separate from the ipykernel package so we can avoid doing imports until\n"
     ]
    }
   ],
   "source": [
    "# DF\n",
    "indicator = INDEPTH_EXPLORATION[\"life_expectancy\"]\n",
    "df_indicator = create_indicator_dataset(df, indicator)[country_only_mask]\n",
    "df_indicator.info()"
   ]
  },
  {
   "cell_type": "code",
   "execution_count": 87,
   "metadata": {},
   "outputs": [
    {
     "name": "stderr",
     "output_type": "stream",
     "text": [
      "C:\\Users\\bella\\anaconda3\\lib\\site-packages\\ipykernel_launcher.py:27: UserWarning: Boolean Series key will be reindexed to match DataFrame index.\n"
     ]
    }
   ],
   "source": [
    "df_max, df_min, df_world = indictor_analysis(df_indicator, indicator)"
   ]
  },
  {
   "cell_type": "code",
   "execution_count": 88,
   "metadata": {},
   "outputs": [
    {
     "data": {
      "text/plain": [
       "Series([], Name: 2019, dtype: float64)"
      ]
     },
     "execution_count": 88,
     "metadata": {},
     "output_type": "execute_result"
    }
   ],
   "source": [
    "df_max"
   ]
  },
  {
   "cell_type": "code",
   "execution_count": 89,
   "metadata": {},
   "outputs": [
    {
     "data": {
      "text/plain": [
       "Series([], Name: 2019, dtype: float64)"
      ]
     },
     "execution_count": 89,
     "metadata": {},
     "output_type": "execute_result"
    }
   ],
   "source": [
    "df_min"
   ]
  },
  {
   "cell_type": "markdown",
   "metadata": {},
   "source": [
    "**FINAL  LIST**\n",
    "* GDP_growth\n",
    "* GDP_per_capita\n",
    "* GDP_per_capita\n",
    "* GDP_per_capita_PPP\n",
    "* GNI_per_capita\n",
    "* Inflation \n",
    "* Life expectancy => 2018 year\n",
    "* CO2 emissions => 2016 year\n",
    "* imports\n",
    "* imports_growth\n",
    "* exports"
   ]
  },
  {
   "cell_type": "markdown",
   "metadata": {},
   "source": [
    "## Required Arrays"
   ]
  },
  {
   "cell_type": "code",
   "execution_count": 90,
   "metadata": {},
   "outputs": [
    {
     "data": {
      "text/plain": [
       "'World'"
      ]
     },
     "execution_count": 90,
     "metadata": {},
     "output_type": "execute_result"
    }
   ],
   "source": [
    "# Popping world element\n",
    "world_index = required_regions.index(\"World\")\n",
    "required_regions.pop(world_index)"
   ]
  },
  {
   "cell_type": "code",
   "execution_count": 91,
   "metadata": {},
   "outputs": [],
   "source": [
    "required_regions.append(\"North America\")"
   ]
  },
  {
   "cell_type": "code",
   "execution_count": 92,
   "metadata": {},
   "outputs": [
    {
     "data": {
      "text/plain": [
       "'Caribbean small states'"
      ]
     },
     "execution_count": 92,
     "metadata": {},
     "output_type": "execute_result"
    }
   ],
   "source": [
    "ccs_index = required_regions.index('Caribbean small states')\n",
    "required_regions.pop(ccs_index)"
   ]
  },
  {
   "cell_type": "code",
   "execution_count": 93,
   "metadata": {},
   "outputs": [],
   "source": [
    "# Country Code for each region\n",
    "regions_mask = df[country].isin(required_regions)\n",
    "required_regions_codes = list(df[regions_mask][country_code].unique())"
   ]
  },
  {
   "cell_type": "code",
   "execution_count": 94,
   "metadata": {},
   "outputs": [
    {
     "data": {
      "text/plain": [
       "['ARB', 'EAS', 'ECS', 'LCN', 'MEA', 'NAC', 'PSS', 'SAS', 'SSF']"
      ]
     },
     "execution_count": 94,
     "metadata": {},
     "output_type": "execute_result"
    }
   ],
   "source": [
    "required_regions_codes"
   ]
  },
  {
   "cell_type": "code",
   "execution_count": 95,
   "metadata": {},
   "outputs": [],
   "source": [
    "# Regions \n",
    "with open(\"./arrays/regions.json\", \"w\") as fp:\n",
    "    required_regions_str = json.dump(required_regions_codes, fp)\n"
   ]
  },
  {
   "cell_type": "code",
   "execution_count": 96,
   "metadata": {},
   "outputs": [
    {
     "data": {
      "text/plain": [
       "['AFG',\n",
       " 'ALB',\n",
       " 'DZA',\n",
       " 'ASM',\n",
       " 'AND',\n",
       " 'AGO',\n",
       " 'ATG',\n",
       " 'ARG',\n",
       " 'ARM',\n",
       " 'ABW',\n",
       " 'AUS',\n",
       " 'AUT',\n",
       " 'AZE',\n",
       " 'BHS',\n",
       " 'BHR',\n",
       " 'BGD',\n",
       " 'BRB',\n",
       " 'BLR',\n",
       " 'BEL',\n",
       " 'BLZ',\n",
       " 'BEN',\n",
       " 'BMU',\n",
       " 'BTN',\n",
       " 'BOL',\n",
       " 'BIH',\n",
       " 'BWA',\n",
       " 'BRA',\n",
       " 'VGB',\n",
       " 'BRN',\n",
       " 'BGR',\n",
       " 'BFA',\n",
       " 'BDI',\n",
       " 'CPV',\n",
       " 'KHM',\n",
       " 'CMR',\n",
       " 'CAN',\n",
       " 'CYM',\n",
       " 'CAF',\n",
       " 'TCD',\n",
       " 'CHI',\n",
       " 'CHL',\n",
       " 'CHN',\n",
       " 'COL',\n",
       " 'COM',\n",
       " 'COD',\n",
       " 'COG',\n",
       " 'CRI',\n",
       " 'CIV',\n",
       " 'HRV',\n",
       " 'CUB',\n",
       " 'CUW',\n",
       " 'CYP',\n",
       " 'CZE',\n",
       " 'DNK',\n",
       " 'DJI',\n",
       " 'DMA',\n",
       " 'DOM',\n",
       " 'ECU',\n",
       " 'EGY',\n",
       " 'SLV',\n",
       " 'GNQ',\n",
       " 'ERI',\n",
       " 'EST',\n",
       " 'SWZ',\n",
       " 'ETH',\n",
       " 'FRO',\n",
       " 'FJI',\n",
       " 'FIN',\n",
       " 'FRA',\n",
       " 'PYF',\n",
       " 'GAB',\n",
       " 'GMB',\n",
       " 'GEO',\n",
       " 'DEU',\n",
       " 'GHA',\n",
       " 'GIB',\n",
       " 'GRC',\n",
       " 'GRL',\n",
       " 'GRD',\n",
       " 'GUM',\n",
       " 'GTM',\n",
       " 'GIN',\n",
       " 'GNB',\n",
       " 'GUY',\n",
       " 'HTI',\n",
       " 'HND',\n",
       " 'HKG',\n",
       " 'HUN',\n",
       " 'ISL',\n",
       " 'IND',\n",
       " 'IDN',\n",
       " 'IRN',\n",
       " 'IRQ',\n",
       " 'IRL',\n",
       " 'IMN',\n",
       " 'ISR',\n",
       " 'ITA',\n",
       " 'JAM',\n",
       " 'JPN',\n",
       " 'JOR',\n",
       " 'KAZ',\n",
       " 'KEN',\n",
       " 'KIR',\n",
       " 'PRK',\n",
       " 'KOR',\n",
       " 'XKX',\n",
       " 'KWT',\n",
       " 'KGZ',\n",
       " 'LAO',\n",
       " 'LVA',\n",
       " 'LBN',\n",
       " 'LSO',\n",
       " 'LBR',\n",
       " 'LBY',\n",
       " 'LIE',\n",
       " 'LTU',\n",
       " 'LUX',\n",
       " 'MAC',\n",
       " 'MDG',\n",
       " 'MWI',\n",
       " 'MYS',\n",
       " 'MDV',\n",
       " 'MLI',\n",
       " 'MLT',\n",
       " 'MHL',\n",
       " 'MRT',\n",
       " 'MUS',\n",
       " 'MEX',\n",
       " 'FSM',\n",
       " 'MDA',\n",
       " 'MCO',\n",
       " 'MNG',\n",
       " 'MNE',\n",
       " 'MAR',\n",
       " 'MOZ',\n",
       " 'MMR',\n",
       " 'NAM',\n",
       " 'NRU',\n",
       " 'NPL',\n",
       " 'NLD',\n",
       " 'NCL',\n",
       " 'NZL',\n",
       " 'NIC',\n",
       " 'NER',\n",
       " 'NGA',\n",
       " 'MKD',\n",
       " 'MNP',\n",
       " 'NOR',\n",
       " 'OMN',\n",
       " 'PAK',\n",
       " 'PLW',\n",
       " 'PAN',\n",
       " 'PNG',\n",
       " 'PRY',\n",
       " 'PER',\n",
       " 'PHL',\n",
       " 'POL',\n",
       " 'PRT',\n",
       " 'PRI',\n",
       " 'QAT',\n",
       " 'ROU',\n",
       " 'RUS',\n",
       " 'RWA',\n",
       " 'WSM',\n",
       " 'SMR',\n",
       " 'STP',\n",
       " 'SAU',\n",
       " 'SEN',\n",
       " 'SRB',\n",
       " 'SYC',\n",
       " 'SLE',\n",
       " 'SGP',\n",
       " 'SXM',\n",
       " 'SVK',\n",
       " 'SVN',\n",
       " 'SLB',\n",
       " 'SOM',\n",
       " 'ZAF',\n",
       " 'SSD',\n",
       " 'ESP',\n",
       " 'LKA',\n",
       " 'KNA',\n",
       " 'LCA',\n",
       " 'MAF',\n",
       " 'VCT',\n",
       " 'SDN',\n",
       " 'SUR',\n",
       " 'SWE',\n",
       " 'CHE',\n",
       " 'SYR',\n",
       " 'TJK',\n",
       " 'TZA',\n",
       " 'THA',\n",
       " 'TLS',\n",
       " 'TGO',\n",
       " 'TON',\n",
       " 'TTO',\n",
       " 'TUN',\n",
       " 'TUR',\n",
       " 'TKM',\n",
       " 'TCA',\n",
       " 'TUV',\n",
       " 'UGA',\n",
       " 'UKR',\n",
       " 'ARE',\n",
       " 'GBR',\n",
       " 'USA',\n",
       " 'URY',\n",
       " 'UZB',\n",
       " 'VUT',\n",
       " 'VEN',\n",
       " 'VNM',\n",
       " 'VIR',\n",
       " 'PSE',\n",
       " 'YEM',\n",
       " 'ZMB',\n",
       " 'ZWE']"
      ]
     },
     "execution_count": 96,
     "metadata": {},
     "output_type": "execute_result"
    }
   ],
   "source": [
    "# Only countries array\n",
    "countries_only_dict"
   ]
  },
  {
   "cell_type": "code",
   "execution_count": 97,
   "metadata": {},
   "outputs": [],
   "source": [
    "# Countries JSON \n",
    "with open(\"./arrays/countries.json\", \"w\") as fp:\n",
    "    required_regions_str = json.dump(countries_only_dict, fp)\n"
   ]
  },
  {
   "cell_type": "markdown",
   "metadata": {},
   "source": [
    "### Indicator Arrays"
   ]
  },
  {
   "cell_type": "code",
   "execution_count": 98,
   "metadata": {},
   "outputs": [],
   "source": [
    "# World at a Glance Indicators Array \n",
    "with open(\"./arrays/world_at_a_glance.json\", \"w\") as fp:\n",
    "    json.dump(world_at_a_glance_indicators_array, fp)"
   ]
  },
  {
   "cell_type": "code",
   "execution_count": 99,
   "metadata": {},
   "outputs": [],
   "source": [
    "# Popular Section Arrays \n",
    "with open(\"./arrays/popular_section.json\", \"w\") as fp:\n",
    "    json.dump(popular_indicators_array, fp)"
   ]
  },
  {
   "cell_type": "code",
   "execution_count": 100,
   "metadata": {},
   "outputs": [],
   "source": [
    "# Unpopualr Section Array\n",
    "with open(\"./arrays/unpopular_section.json\", \"w\") as fp:\n",
    "    json.dump(unpopular_indicators_array, fp)"
   ]
  },
  {
   "cell_type": "code",
   "execution_count": 101,
   "metadata": {},
   "outputs": [],
   "source": [
    "# Indepth Exploration \n",
    "with open(\"./arrays/indepth_exploration.json\", \"w\") as fp:\n",
    "    json.dump(indepth_exploration_array, fp)"
   ]
  },
  {
   "cell_type": "code",
   "execution_count": 102,
   "metadata": {},
   "outputs": [],
   "source": [
    "# Quick Facts Gender\n",
    "with open(\"./arrays/quick_facts_gender.json\", \"w\") as fp:\n",
    "    json.dump(gender_indicators_array, fp)"
   ]
  },
  {
   "cell_type": "code",
   "execution_count": 103,
   "metadata": {},
   "outputs": [
    {
     "data": {
      "text/plain": [
       "['Arab World',\n",
       " 'East Asia & Pacific',\n",
       " 'Europe & Central Asia',\n",
       " 'Latin America & Caribbean',\n",
       " 'Middle East & North Africa',\n",
       " 'Pacific island small states',\n",
       " 'South Asia',\n",
       " 'Sub-Saharan Africa',\n",
       " 'North America']"
      ]
     },
     "execution_count": 103,
     "metadata": {},
     "output_type": "execute_result"
    }
   ],
   "source": [
    "required_regions"
   ]
  },
  {
   "cell_type": "markdown",
   "metadata": {},
   "source": [
    "### Mapping b/w Countries and Codes"
   ]
  },
  {
   "cell_type": "code",
   "execution_count": 104,
   "metadata": {},
   "outputs": [],
   "source": [
    "all_names = df[country].unique()"
   ]
  },
  {
   "cell_type": "code",
   "execution_count": 105,
   "metadata": {},
   "outputs": [],
   "source": [
    "country_name_to_code = {}\n",
    "country_code_to_name = {}\n",
    "for country_item in all_names:\n",
    "    country_mask = df[country] == country_item\n",
    "    code = df[country_mask][country_code].unique()[0]\n",
    "    country_code_to_name[code]= country_item"
   ]
  },
  {
   "cell_type": "code",
   "execution_count": 106,
   "metadata": {},
   "outputs": [
    {
     "data": {
      "text/plain": [
       "{'ARB': 'Arab World',\n",
       " 'CSS': 'Caribbean small states',\n",
       " 'CEB': 'Central Europe and the Baltics',\n",
       " 'EAR': 'Early-demographic dividend',\n",
       " 'EAS': 'East Asia & Pacific',\n",
       " 'EAP': 'East Asia & Pacific (excluding high income)',\n",
       " 'TEA': 'East Asia & Pacific (IDA & IBRD countries)',\n",
       " 'EMU': 'Euro area',\n",
       " 'ECS': 'Europe & Central Asia',\n",
       " 'ECA': 'Europe & Central Asia (excluding high income)',\n",
       " 'TEC': 'Europe & Central Asia (IDA & IBRD countries)',\n",
       " 'EUU': 'European Union',\n",
       " 'FCS': 'Fragile and conflict affected situations',\n",
       " 'HPC': 'Heavily indebted poor countries (HIPC)',\n",
       " 'HIC': 'High income',\n",
       " 'IBD': 'IBRD only',\n",
       " 'IBT': 'IDA & IBRD total',\n",
       " 'IDB': 'IDA blend',\n",
       " 'IDX': 'IDA only',\n",
       " 'IDA': 'IDA total',\n",
       " 'LTE': 'Late-demographic dividend',\n",
       " 'LCN': 'Latin America & Caribbean',\n",
       " 'LAC': 'Latin America & Caribbean (excluding high income)',\n",
       " 'TLA': 'Latin America & the Caribbean (IDA & IBRD countries)',\n",
       " 'LDC': 'Least developed countries: UN classification',\n",
       " 'LMY': 'Low & middle income',\n",
       " 'LIC': 'Low income',\n",
       " 'LMC': 'Lower middle income',\n",
       " 'MEA': 'Middle East & North Africa',\n",
       " 'MNA': 'Middle East & North Africa (excluding high income)',\n",
       " 'TMN': 'Middle East & North Africa (IDA & IBRD countries)',\n",
       " 'MIC': 'Middle income',\n",
       " 'NAC': 'North America',\n",
       " 'INX': 'Not classified',\n",
       " 'OED': 'OECD members',\n",
       " 'OSS': 'Other small states',\n",
       " 'PSS': 'Pacific island small states',\n",
       " 'PST': 'Post-demographic dividend',\n",
       " 'PRE': 'Pre-demographic dividend',\n",
       " 'SST': 'Small states',\n",
       " 'SAS': 'South Asia',\n",
       " 'TSA': 'South Asia (IDA & IBRD)',\n",
       " 'SSF': 'Sub-Saharan Africa',\n",
       " 'SSA': 'Sub-Saharan Africa (excluding high income)',\n",
       " 'TSS': 'Sub-Saharan Africa (IDA & IBRD countries)',\n",
       " 'UMC': 'Upper middle income',\n",
       " 'WLD': 'World',\n",
       " 'AFG': 'Afghanistan',\n",
       " 'ALB': 'Albania',\n",
       " 'DZA': 'Algeria',\n",
       " 'ASM': 'American Samoa',\n",
       " 'AND': 'Andorra',\n",
       " 'AGO': 'Angola',\n",
       " 'ATG': 'Antigua and Barbuda',\n",
       " 'ARG': 'Argentina',\n",
       " 'ARM': 'Armenia',\n",
       " 'ABW': 'Aruba',\n",
       " 'AUS': 'Australia',\n",
       " 'AUT': 'Austria',\n",
       " 'AZE': 'Azerbaijan',\n",
       " 'BHS': 'Bahamas, The',\n",
       " 'BHR': 'Bahrain',\n",
       " 'BGD': 'Bangladesh',\n",
       " 'BRB': 'Barbados',\n",
       " 'BLR': 'Belarus',\n",
       " 'BEL': 'Belgium',\n",
       " 'BLZ': 'Belize',\n",
       " 'BEN': 'Benin',\n",
       " 'BMU': 'Bermuda',\n",
       " 'BTN': 'Bhutan',\n",
       " 'BOL': 'Bolivia',\n",
       " 'BIH': 'Bosnia and Herzegovina',\n",
       " 'BWA': 'Botswana',\n",
       " 'BRA': 'Brazil',\n",
       " 'VGB': 'British Virgin Islands',\n",
       " 'BRN': 'Brunei Darussalam',\n",
       " 'BGR': 'Bulgaria',\n",
       " 'BFA': 'Burkina Faso',\n",
       " 'BDI': 'Burundi',\n",
       " 'CPV': 'Cabo Verde',\n",
       " 'KHM': 'Cambodia',\n",
       " 'CMR': 'Cameroon',\n",
       " 'CAN': 'Canada',\n",
       " 'CYM': 'Cayman Islands',\n",
       " 'CAF': 'Central African Republic',\n",
       " 'TCD': 'Chad',\n",
       " 'CHI': 'Channel Islands',\n",
       " 'CHL': 'Chile',\n",
       " 'CHN': 'China',\n",
       " 'COL': 'Colombia',\n",
       " 'COM': 'Comoros',\n",
       " 'COD': 'Congo, Dem. Rep.',\n",
       " 'COG': 'Congo, Rep.',\n",
       " 'CRI': 'Costa Rica',\n",
       " 'CIV': \"Cote d'Ivoire\",\n",
       " 'HRV': 'Croatia',\n",
       " 'CUB': 'Cuba',\n",
       " 'CUW': 'Curacao',\n",
       " 'CYP': 'Cyprus',\n",
       " 'CZE': 'Czech Republic',\n",
       " 'DNK': 'Denmark',\n",
       " 'DJI': 'Djibouti',\n",
       " 'DMA': 'Dominica',\n",
       " 'DOM': 'Dominican Republic',\n",
       " 'ECU': 'Ecuador',\n",
       " 'EGY': 'Egypt, Arab Rep.',\n",
       " 'SLV': 'El Salvador',\n",
       " 'GNQ': 'Equatorial Guinea',\n",
       " 'ERI': 'Eritrea',\n",
       " 'EST': 'Estonia',\n",
       " 'SWZ': 'Eswatini',\n",
       " 'ETH': 'Ethiopia',\n",
       " 'FRO': 'Faroe Islands',\n",
       " 'FJI': 'Fiji',\n",
       " 'FIN': 'Finland',\n",
       " 'FRA': 'France',\n",
       " 'PYF': 'French Polynesia',\n",
       " 'GAB': 'Gabon',\n",
       " 'GMB': 'Gambia, The',\n",
       " 'GEO': 'Georgia',\n",
       " 'DEU': 'Germany',\n",
       " 'GHA': 'Ghana',\n",
       " 'GIB': 'Gibraltar',\n",
       " 'GRC': 'Greece',\n",
       " 'GRL': 'Greenland',\n",
       " 'GRD': 'Grenada',\n",
       " 'GUM': 'Guam',\n",
       " 'GTM': 'Guatemala',\n",
       " 'GIN': 'Guinea',\n",
       " 'GNB': 'Guinea-Bissau',\n",
       " 'GUY': 'Guyana',\n",
       " 'HTI': 'Haiti',\n",
       " 'HND': 'Honduras',\n",
       " 'HKG': 'Hong Kong SAR, China',\n",
       " 'HUN': 'Hungary',\n",
       " 'ISL': 'Iceland',\n",
       " 'IND': 'India',\n",
       " 'IDN': 'Indonesia',\n",
       " 'IRN': 'Iran, Islamic Rep.',\n",
       " 'IRQ': 'Iraq',\n",
       " 'IRL': 'Ireland',\n",
       " 'IMN': 'Isle of Man',\n",
       " 'ISR': 'Israel',\n",
       " 'ITA': 'Italy',\n",
       " 'JAM': 'Jamaica',\n",
       " 'JPN': 'Japan',\n",
       " 'JOR': 'Jordan',\n",
       " 'KAZ': 'Kazakhstan',\n",
       " 'KEN': 'Kenya',\n",
       " 'KIR': 'Kiribati',\n",
       " 'PRK': 'Korea, Dem. People’s Rep.',\n",
       " 'KOR': 'Korea, Rep.',\n",
       " 'XKX': 'Kosovo',\n",
       " 'KWT': 'Kuwait',\n",
       " 'KGZ': 'Kyrgyz Republic',\n",
       " 'LAO': 'Lao PDR',\n",
       " 'LVA': 'Latvia',\n",
       " 'LBN': 'Lebanon',\n",
       " 'LSO': 'Lesotho',\n",
       " 'LBR': 'Liberia',\n",
       " 'LBY': 'Libya',\n",
       " 'LIE': 'Liechtenstein',\n",
       " 'LTU': 'Lithuania',\n",
       " 'LUX': 'Luxembourg',\n",
       " 'MAC': 'Macao SAR, China',\n",
       " 'MDG': 'Madagascar',\n",
       " 'MWI': 'Malawi',\n",
       " 'MYS': 'Malaysia',\n",
       " 'MDV': 'Maldives',\n",
       " 'MLI': 'Mali',\n",
       " 'MLT': 'Malta',\n",
       " 'MHL': 'Marshall Islands',\n",
       " 'MRT': 'Mauritania',\n",
       " 'MUS': 'Mauritius',\n",
       " 'MEX': 'Mexico',\n",
       " 'FSM': 'Micronesia, Fed. Sts.',\n",
       " 'MDA': 'Moldova',\n",
       " 'MCO': 'Monaco',\n",
       " 'MNG': 'Mongolia',\n",
       " 'MNE': 'Montenegro',\n",
       " 'MAR': 'Morocco',\n",
       " 'MOZ': 'Mozambique',\n",
       " 'MMR': 'Myanmar',\n",
       " 'NAM': 'Namibia',\n",
       " 'NRU': 'Nauru',\n",
       " 'NPL': 'Nepal',\n",
       " 'NLD': 'Netherlands',\n",
       " 'NCL': 'New Caledonia',\n",
       " 'NZL': 'New Zealand',\n",
       " 'NIC': 'Nicaragua',\n",
       " 'NER': 'Niger',\n",
       " 'NGA': 'Nigeria',\n",
       " 'MKD': 'North Macedonia',\n",
       " 'MNP': 'Northern Mariana Islands',\n",
       " 'NOR': 'Norway',\n",
       " 'OMN': 'Oman',\n",
       " 'PAK': 'Pakistan',\n",
       " 'PLW': 'Palau',\n",
       " 'PAN': 'Panama',\n",
       " 'PNG': 'Papua New Guinea',\n",
       " 'PRY': 'Paraguay',\n",
       " 'PER': 'Peru',\n",
       " 'PHL': 'Philippines',\n",
       " 'POL': 'Poland',\n",
       " 'PRT': 'Portugal',\n",
       " 'PRI': 'Puerto Rico',\n",
       " 'QAT': 'Qatar',\n",
       " 'ROU': 'Romania',\n",
       " 'RUS': 'Russian Federation',\n",
       " 'RWA': 'Rwanda',\n",
       " 'WSM': 'Samoa',\n",
       " 'SMR': 'San Marino',\n",
       " 'STP': 'Sao Tome and Principe',\n",
       " 'SAU': 'Saudi Arabia',\n",
       " 'SEN': 'Senegal',\n",
       " 'SRB': 'Serbia',\n",
       " 'SYC': 'Seychelles',\n",
       " 'SLE': 'Sierra Leone',\n",
       " 'SGP': 'Singapore',\n",
       " 'SXM': 'Sint Maarten (Dutch part)',\n",
       " 'SVK': 'Slovak Republic',\n",
       " 'SVN': 'Slovenia',\n",
       " 'SLB': 'Solomon Islands',\n",
       " 'SOM': 'Somalia',\n",
       " 'ZAF': 'South Africa',\n",
       " 'SSD': 'South Sudan',\n",
       " 'ESP': 'Spain',\n",
       " 'LKA': 'Sri Lanka',\n",
       " 'KNA': 'St. Kitts and Nevis',\n",
       " 'LCA': 'St. Lucia',\n",
       " 'MAF': 'St. Martin (French part)',\n",
       " 'VCT': 'St. Vincent and the Grenadines',\n",
       " 'SDN': 'Sudan',\n",
       " 'SUR': 'Suriname',\n",
       " 'SWE': 'Sweden',\n",
       " 'CHE': 'Switzerland',\n",
       " 'SYR': 'Syrian Arab Republic',\n",
       " 'TJK': 'Tajikistan',\n",
       " 'TZA': 'Tanzania',\n",
       " 'THA': 'Thailand',\n",
       " 'TLS': 'Timor-Leste',\n",
       " 'TGO': 'Togo',\n",
       " 'TON': 'Tonga',\n",
       " 'TTO': 'Trinidad and Tobago',\n",
       " 'TUN': 'Tunisia',\n",
       " 'TUR': 'Turkey',\n",
       " 'TKM': 'Turkmenistan',\n",
       " 'TCA': 'Turks and Caicos Islands',\n",
       " 'TUV': 'Tuvalu',\n",
       " 'UGA': 'Uganda',\n",
       " 'UKR': 'Ukraine',\n",
       " 'ARE': 'United Arab Emirates',\n",
       " 'GBR': 'United Kingdom',\n",
       " 'USA': 'United States',\n",
       " 'URY': 'Uruguay',\n",
       " 'UZB': 'Uzbekistan',\n",
       " 'VUT': 'Vanuatu',\n",
       " 'VEN': 'Venezuela, RB',\n",
       " 'VNM': 'Vietnam',\n",
       " 'VIR': 'Virgin Islands (U.S.)',\n",
       " 'PSE': 'West Bank and Gaza',\n",
       " 'YEM': 'Yemen, Rep.',\n",
       " 'ZMB': 'Zambia',\n",
       " 'ZWE': 'Zimbabwe'}"
      ]
     },
     "execution_count": 106,
     "metadata": {},
     "output_type": "execute_result"
    }
   ],
   "source": [
    "country_code_to_name"
   ]
  },
  {
   "cell_type": "code",
   "execution_count": 107,
   "metadata": {},
   "outputs": [],
   "source": [
    "import json\n",
    "with open(\"./arrays/country_code_to_name.json\", \"w\") as fp:\n",
    "    json.dump(country_code_to_name, fp)"
   ]
  },
  {
   "cell_type": "markdown",
   "metadata": {},
   "source": [
    "### Summary \n",
    "This book goes through the exploration and fact extraction process involved in building of the web application; EconoMetrics. So in summary - \n",
    "\n",
    "#### Quick Fact 1\n",
    "Out of the 75 countries that have reported data on CPIA Gender Equality, Kiribari, Micronesia and Togo hav seen the highest positive change increasing of 0.5. These oceanic countries have seen a spike these recent years. The biggest gainer is Togo whose CPIA grew from 3.0 to 3.5 while that of Kiribati and Microesia increased from 2.5 to 3.0. \n",
    "\n",
    "**World Average** is positive increase of 0.013 from 3.239 to 3.25\n",
    "\n",
    "**The reports have not seen any decrease**\n",
    "\n",
    "#### Quick Fact 2\n",
    "\n",
    "* The country of Costa Rica has seen the highest growth in female labor force of 1.63% increasing from 38.8% to 40.5%.\n",
    "* The country with the greatest decline in this specific indicator is Venezuela whose -1.25% decline decrease the active female labor force from 38.46% to 37.22% of female population\n",
    "* World Average - +ve 0.024%\n",
    "\n",
    "#### Quick Fact 3 Gender Parity Index -> greater than 1 indicates that girls are preferred -> less than one girls are at a disadvantage\n",
    "* The country that has experienced the biggest positive change is Burundi where the GPI increased from 1.11 to 1.15\n",
    "Malawi has seen the sharpest decrease from 0.98 to 0.83 in the last two years\n",
    "* World Average is at 0.99\n",
    "* The country with the highest GPI is Tualu with 1.33\n",
    "* Chad is the worst with 0.53 Gender Parity Index ()\n"
   ]
  },
  {
   "cell_type": "code",
   "execution_count": 114,
   "metadata": {},
   "outputs": [
    {
     "data": {
      "text/html": [
       "<div>\n",
       "<style scoped>\n",
       "    .dataframe tbody tr th:only-of-type {\n",
       "        vertical-align: middle;\n",
       "    }\n",
       "\n",
       "    .dataframe tbody tr th {\n",
       "        vertical-align: top;\n",
       "    }\n",
       "\n",
       "    .dataframe thead th {\n",
       "        text-align: right;\n",
       "    }\n",
       "</style>\n",
       "<table border=\"1\" class=\"dataframe\">\n",
       "  <thead>\n",
       "    <tr style=\"text-align: right;\">\n",
       "      <th></th>\n",
       "      <th>Country Code</th>\n",
       "      <th>Indicator Name</th>\n",
       "      <th>Indicator Code</th>\n",
       "      <th>1960</th>\n",
       "      <th>1961</th>\n",
       "      <th>1962</th>\n",
       "      <th>1963</th>\n",
       "      <th>1964</th>\n",
       "      <th>1965</th>\n",
       "      <th>1966</th>\n",
       "      <th>...</th>\n",
       "      <th>2012</th>\n",
       "      <th>2013</th>\n",
       "      <th>2014</th>\n",
       "      <th>2015</th>\n",
       "      <th>2016</th>\n",
       "      <th>2017</th>\n",
       "      <th>2018</th>\n",
       "      <th>2019</th>\n",
       "      <th>2020</th>\n",
       "      <th>Unnamed: 65</th>\n",
       "    </tr>\n",
       "    <tr>\n",
       "      <th>Country Name</th>\n",
       "      <th></th>\n",
       "      <th></th>\n",
       "      <th></th>\n",
       "      <th></th>\n",
       "      <th></th>\n",
       "      <th></th>\n",
       "      <th></th>\n",
       "      <th></th>\n",
       "      <th></th>\n",
       "      <th></th>\n",
       "      <th></th>\n",
       "      <th></th>\n",
       "      <th></th>\n",
       "      <th></th>\n",
       "      <th></th>\n",
       "      <th></th>\n",
       "      <th></th>\n",
       "      <th></th>\n",
       "      <th></th>\n",
       "      <th></th>\n",
       "      <th></th>\n",
       "    </tr>\n",
       "  </thead>\n",
       "  <tbody>\n",
       "    <tr>\n",
       "      <th>Afghanistan</th>\n",
       "      <td>AFG</td>\n",
       "      <td>Labor force, female (% of total labor force)</td>\n",
       "      <td>SL.TLF.TOTL.FE.ZS</td>\n",
       "      <td>NaN</td>\n",
       "      <td>NaN</td>\n",
       "      <td>NaN</td>\n",
       "      <td>NaN</td>\n",
       "      <td>NaN</td>\n",
       "      <td>NaN</td>\n",
       "      <td>NaN</td>\n",
       "      <td>...</td>\n",
       "      <td>16.115368</td>\n",
       "      <td>16.963316</td>\n",
       "      <td>17.852921</td>\n",
       "      <td>18.787762</td>\n",
       "      <td>19.816450</td>\n",
       "      <td>20.892356</td>\n",
       "      <td>21.247021</td>\n",
       "      <td>21.607395</td>\n",
       "      <td>NaN</td>\n",
       "      <td>NaN</td>\n",
       "    </tr>\n",
       "    <tr>\n",
       "      <th>Albania</th>\n",
       "      <td>ALB</td>\n",
       "      <td>Labor force, female (% of total labor force)</td>\n",
       "      <td>SL.TLF.TOTL.FE.ZS</td>\n",
       "      <td>NaN</td>\n",
       "      <td>NaN</td>\n",
       "      <td>NaN</td>\n",
       "      <td>NaN</td>\n",
       "      <td>NaN</td>\n",
       "      <td>NaN</td>\n",
       "      <td>NaN</td>\n",
       "      <td>...</td>\n",
       "      <td>42.302602</td>\n",
       "      <td>41.182985</td>\n",
       "      <td>40.276432</td>\n",
       "      <td>41.132848</td>\n",
       "      <td>42.025443</td>\n",
       "      <td>41.245032</td>\n",
       "      <td>42.190687</td>\n",
       "      <td>43.044282</td>\n",
       "      <td>NaN</td>\n",
       "      <td>NaN</td>\n",
       "    </tr>\n",
       "    <tr>\n",
       "      <th>Algeria</th>\n",
       "      <td>DZA</td>\n",
       "      <td>Labor force, female (% of total labor force)</td>\n",
       "      <td>SL.TLF.TOTL.FE.ZS</td>\n",
       "      <td>NaN</td>\n",
       "      <td>NaN</td>\n",
       "      <td>NaN</td>\n",
       "      <td>NaN</td>\n",
       "      <td>NaN</td>\n",
       "      <td>NaN</td>\n",
       "      <td>NaN</td>\n",
       "      <td>...</td>\n",
       "      <td>18.832813</td>\n",
       "      <td>19.214702</td>\n",
       "      <td>18.371113</td>\n",
       "      <td>19.037292</td>\n",
       "      <td>19.706611</td>\n",
       "      <td>20.395619</td>\n",
       "      <td>20.126974</td>\n",
       "      <td>19.882426</td>\n",
       "      <td>NaN</td>\n",
       "      <td>NaN</td>\n",
       "    </tr>\n",
       "    <tr>\n",
       "      <th>American Samoa</th>\n",
       "      <td>ASM</td>\n",
       "      <td>Labor force, female (% of total labor force)</td>\n",
       "      <td>SL.TLF.TOTL.FE.ZS</td>\n",
       "      <td>NaN</td>\n",
       "      <td>NaN</td>\n",
       "      <td>NaN</td>\n",
       "      <td>NaN</td>\n",
       "      <td>NaN</td>\n",
       "      <td>NaN</td>\n",
       "      <td>NaN</td>\n",
       "      <td>...</td>\n",
       "      <td>NaN</td>\n",
       "      <td>NaN</td>\n",
       "      <td>NaN</td>\n",
       "      <td>NaN</td>\n",
       "      <td>NaN</td>\n",
       "      <td>NaN</td>\n",
       "      <td>NaN</td>\n",
       "      <td>NaN</td>\n",
       "      <td>NaN</td>\n",
       "      <td>NaN</td>\n",
       "    </tr>\n",
       "    <tr>\n",
       "      <th>Andorra</th>\n",
       "      <td>AND</td>\n",
       "      <td>Labor force, female (% of total labor force)</td>\n",
       "      <td>SL.TLF.TOTL.FE.ZS</td>\n",
       "      <td>NaN</td>\n",
       "      <td>NaN</td>\n",
       "      <td>NaN</td>\n",
       "      <td>NaN</td>\n",
       "      <td>NaN</td>\n",
       "      <td>NaN</td>\n",
       "      <td>NaN</td>\n",
       "      <td>...</td>\n",
       "      <td>NaN</td>\n",
       "      <td>NaN</td>\n",
       "      <td>NaN</td>\n",
       "      <td>NaN</td>\n",
       "      <td>NaN</td>\n",
       "      <td>NaN</td>\n",
       "      <td>NaN</td>\n",
       "      <td>NaN</td>\n",
       "      <td>NaN</td>\n",
       "      <td>NaN</td>\n",
       "    </tr>\n",
       "    <tr>\n",
       "      <th>...</th>\n",
       "      <td>...</td>\n",
       "      <td>...</td>\n",
       "      <td>...</td>\n",
       "      <td>...</td>\n",
       "      <td>...</td>\n",
       "      <td>...</td>\n",
       "      <td>...</td>\n",
       "      <td>...</td>\n",
       "      <td>...</td>\n",
       "      <td>...</td>\n",
       "      <td>...</td>\n",
       "      <td>...</td>\n",
       "      <td>...</td>\n",
       "      <td>...</td>\n",
       "      <td>...</td>\n",
       "      <td>...</td>\n",
       "      <td>...</td>\n",
       "      <td>...</td>\n",
       "      <td>...</td>\n",
       "      <td>...</td>\n",
       "      <td>...</td>\n",
       "    </tr>\n",
       "    <tr>\n",
       "      <th>Virgin Islands (U.S.)</th>\n",
       "      <td>VIR</td>\n",
       "      <td>Labor force, female (% of total labor force)</td>\n",
       "      <td>SL.TLF.TOTL.FE.ZS</td>\n",
       "      <td>NaN</td>\n",
       "      <td>NaN</td>\n",
       "      <td>NaN</td>\n",
       "      <td>NaN</td>\n",
       "      <td>NaN</td>\n",
       "      <td>NaN</td>\n",
       "      <td>NaN</td>\n",
       "      <td>...</td>\n",
       "      <td>49.021939</td>\n",
       "      <td>48.840085</td>\n",
       "      <td>48.871726</td>\n",
       "      <td>48.949852</td>\n",
       "      <td>49.078125</td>\n",
       "      <td>49.062974</td>\n",
       "      <td>49.115615</td>\n",
       "      <td>49.145043</td>\n",
       "      <td>NaN</td>\n",
       "      <td>NaN</td>\n",
       "    </tr>\n",
       "    <tr>\n",
       "      <th>West Bank and Gaza</th>\n",
       "      <td>PSE</td>\n",
       "      <td>Labor force, female (% of total labor force)</td>\n",
       "      <td>SL.TLF.TOTL.FE.ZS</td>\n",
       "      <td>NaN</td>\n",
       "      <td>NaN</td>\n",
       "      <td>NaN</td>\n",
       "      <td>NaN</td>\n",
       "      <td>NaN</td>\n",
       "      <td>NaN</td>\n",
       "      <td>NaN</td>\n",
       "      <td>...</td>\n",
       "      <td>18.927727</td>\n",
       "      <td>18.454630</td>\n",
       "      <td>19.146976</td>\n",
       "      <td>19.965181</td>\n",
       "      <td>19.450475</td>\n",
       "      <td>19.618077</td>\n",
       "      <td>19.854598</td>\n",
       "      <td>20.285994</td>\n",
       "      <td>NaN</td>\n",
       "      <td>NaN</td>\n",
       "    </tr>\n",
       "    <tr>\n",
       "      <th>Yemen, Rep.</th>\n",
       "      <td>YEM</td>\n",
       "      <td>Labor force, female (% of total labor force)</td>\n",
       "      <td>SL.TLF.TOTL.FE.ZS</td>\n",
       "      <td>NaN</td>\n",
       "      <td>NaN</td>\n",
       "      <td>NaN</td>\n",
       "      <td>NaN</td>\n",
       "      <td>NaN</td>\n",
       "      <td>NaN</td>\n",
       "      <td>NaN</td>\n",
       "      <td>...</td>\n",
       "      <td>10.261531</td>\n",
       "      <td>9.205375</td>\n",
       "      <td>8.240403</td>\n",
       "      <td>8.069385</td>\n",
       "      <td>7.985558</td>\n",
       "      <td>7.913951</td>\n",
       "      <td>7.895299</td>\n",
       "      <td>7.881056</td>\n",
       "      <td>NaN</td>\n",
       "      <td>NaN</td>\n",
       "    </tr>\n",
       "    <tr>\n",
       "      <th>Zambia</th>\n",
       "      <td>ZMB</td>\n",
       "      <td>Labor force, female (% of total labor force)</td>\n",
       "      <td>SL.TLF.TOTL.FE.ZS</td>\n",
       "      <td>NaN</td>\n",
       "      <td>NaN</td>\n",
       "      <td>NaN</td>\n",
       "      <td>NaN</td>\n",
       "      <td>NaN</td>\n",
       "      <td>NaN</td>\n",
       "      <td>NaN</td>\n",
       "      <td>...</td>\n",
       "      <td>47.764754</td>\n",
       "      <td>47.798875</td>\n",
       "      <td>47.856941</td>\n",
       "      <td>47.942865</td>\n",
       "      <td>48.039865</td>\n",
       "      <td>48.157775</td>\n",
       "      <td>48.295769</td>\n",
       "      <td>48.420991</td>\n",
       "      <td>NaN</td>\n",
       "      <td>NaN</td>\n",
       "    </tr>\n",
       "    <tr>\n",
       "      <th>Zimbabwe</th>\n",
       "      <td>ZWE</td>\n",
       "      <td>Labor force, female (% of total labor force)</td>\n",
       "      <td>SL.TLF.TOTL.FE.ZS</td>\n",
       "      <td>NaN</td>\n",
       "      <td>NaN</td>\n",
       "      <td>NaN</td>\n",
       "      <td>NaN</td>\n",
       "      <td>NaN</td>\n",
       "      <td>NaN</td>\n",
       "      <td>NaN</td>\n",
       "      <td>...</td>\n",
       "      <td>50.874093</td>\n",
       "      <td>50.909456</td>\n",
       "      <td>50.944774</td>\n",
       "      <td>50.976385</td>\n",
       "      <td>50.940173</td>\n",
       "      <td>50.919571</td>\n",
       "      <td>50.928141</td>\n",
       "      <td>50.914454</td>\n",
       "      <td>NaN</td>\n",
       "      <td>NaN</td>\n",
       "    </tr>\n",
       "  </tbody>\n",
       "</table>\n",
       "<p>217 rows × 65 columns</p>\n",
       "</div>"
      ],
      "text/plain": [
       "                      Country Code  \\\n",
       "Country Name                         \n",
       "Afghanistan                    AFG   \n",
       "Albania                        ALB   \n",
       "Algeria                        DZA   \n",
       "American Samoa                 ASM   \n",
       "Andorra                        AND   \n",
       "...                            ...   \n",
       "Virgin Islands (U.S.)          VIR   \n",
       "West Bank and Gaza             PSE   \n",
       "Yemen, Rep.                    YEM   \n",
       "Zambia                         ZMB   \n",
       "Zimbabwe                       ZWE   \n",
       "\n",
       "                                                     Indicator Name  \\\n",
       "Country Name                                                          \n",
       "Afghanistan            Labor force, female (% of total labor force)   \n",
       "Albania                Labor force, female (% of total labor force)   \n",
       "Algeria                Labor force, female (% of total labor force)   \n",
       "American Samoa         Labor force, female (% of total labor force)   \n",
       "Andorra                Labor force, female (% of total labor force)   \n",
       "...                                                             ...   \n",
       "Virgin Islands (U.S.)  Labor force, female (% of total labor force)   \n",
       "West Bank and Gaza     Labor force, female (% of total labor force)   \n",
       "Yemen, Rep.            Labor force, female (% of total labor force)   \n",
       "Zambia                 Labor force, female (% of total labor force)   \n",
       "Zimbabwe               Labor force, female (% of total labor force)   \n",
       "\n",
       "                          Indicator Code  1960  1961  1962  1963  1964  1965  \\\n",
       "Country Name                                                                   \n",
       "Afghanistan            SL.TLF.TOTL.FE.ZS   NaN   NaN   NaN   NaN   NaN   NaN   \n",
       "Albania                SL.TLF.TOTL.FE.ZS   NaN   NaN   NaN   NaN   NaN   NaN   \n",
       "Algeria                SL.TLF.TOTL.FE.ZS   NaN   NaN   NaN   NaN   NaN   NaN   \n",
       "American Samoa         SL.TLF.TOTL.FE.ZS   NaN   NaN   NaN   NaN   NaN   NaN   \n",
       "Andorra                SL.TLF.TOTL.FE.ZS   NaN   NaN   NaN   NaN   NaN   NaN   \n",
       "...                                  ...   ...   ...   ...   ...   ...   ...   \n",
       "Virgin Islands (U.S.)  SL.TLF.TOTL.FE.ZS   NaN   NaN   NaN   NaN   NaN   NaN   \n",
       "West Bank and Gaza     SL.TLF.TOTL.FE.ZS   NaN   NaN   NaN   NaN   NaN   NaN   \n",
       "Yemen, Rep.            SL.TLF.TOTL.FE.ZS   NaN   NaN   NaN   NaN   NaN   NaN   \n",
       "Zambia                 SL.TLF.TOTL.FE.ZS   NaN   NaN   NaN   NaN   NaN   NaN   \n",
       "Zimbabwe               SL.TLF.TOTL.FE.ZS   NaN   NaN   NaN   NaN   NaN   NaN   \n",
       "\n",
       "                       1966  ...       2012       2013       2014       2015  \\\n",
       "Country Name                 ...                                               \n",
       "Afghanistan             NaN  ...  16.115368  16.963316  17.852921  18.787762   \n",
       "Albania                 NaN  ...  42.302602  41.182985  40.276432  41.132848   \n",
       "Algeria                 NaN  ...  18.832813  19.214702  18.371113  19.037292   \n",
       "American Samoa          NaN  ...        NaN        NaN        NaN        NaN   \n",
       "Andorra                 NaN  ...        NaN        NaN        NaN        NaN   \n",
       "...                     ...  ...        ...        ...        ...        ...   \n",
       "Virgin Islands (U.S.)   NaN  ...  49.021939  48.840085  48.871726  48.949852   \n",
       "West Bank and Gaza      NaN  ...  18.927727  18.454630  19.146976  19.965181   \n",
       "Yemen, Rep.             NaN  ...  10.261531   9.205375   8.240403   8.069385   \n",
       "Zambia                  NaN  ...  47.764754  47.798875  47.856941  47.942865   \n",
       "Zimbabwe                NaN  ...  50.874093  50.909456  50.944774  50.976385   \n",
       "\n",
       "                            2016       2017       2018       2019  2020  \\\n",
       "Country Name                                                              \n",
       "Afghanistan            19.816450  20.892356  21.247021  21.607395   NaN   \n",
       "Albania                42.025443  41.245032  42.190687  43.044282   NaN   \n",
       "Algeria                19.706611  20.395619  20.126974  19.882426   NaN   \n",
       "American Samoa               NaN        NaN        NaN        NaN   NaN   \n",
       "Andorra                      NaN        NaN        NaN        NaN   NaN   \n",
       "...                          ...        ...        ...        ...   ...   \n",
       "Virgin Islands (U.S.)  49.078125  49.062974  49.115615  49.145043   NaN   \n",
       "West Bank and Gaza     19.450475  19.618077  19.854598  20.285994   NaN   \n",
       "Yemen, Rep.             7.985558   7.913951   7.895299   7.881056   NaN   \n",
       "Zambia                 48.039865  48.157775  48.295769  48.420991   NaN   \n",
       "Zimbabwe               50.940173  50.919571  50.928141  50.914454   NaN   \n",
       "\n",
       "                       Unnamed: 65  \n",
       "Country Name                        \n",
       "Afghanistan                    NaN  \n",
       "Albania                        NaN  \n",
       "Algeria                        NaN  \n",
       "American Samoa                 NaN  \n",
       "Andorra                        NaN  \n",
       "...                            ...  \n",
       "Virgin Islands (U.S.)          NaN  \n",
       "West Bank and Gaza             NaN  \n",
       "Yemen, Rep.                    NaN  \n",
       "Zambia                         NaN  \n",
       "Zimbabwe                       NaN  \n",
       "\n",
       "[217 rows x 65 columns]"
      ]
     },
     "execution_count": 114,
     "metadata": {},
     "output_type": "execute_result"
    }
   ],
   "source": [
    "# Visualization \n",
    "df_gender_indicator_2"
   ]
  },
  {
   "cell_type": "code",
   "execution_count": 129,
   "metadata": {},
   "outputs": [],
   "source": [
    "# Gender Data \n",
    "years = [str(val) for val in np.arange(2005, 2020)]\n",
    "gender_world_data = df[gender_indicator_1_mask & world_mask][years].T"
   ]
  },
  {
   "cell_type": "code",
   "execution_count": 141,
   "metadata": {},
   "outputs": [],
   "source": [
    "# import matplotlob \n",
    "import matplotlib.pyplot as plt"
   ]
  },
  {
   "cell_type": "code",
   "execution_count": 147,
   "metadata": {},
   "outputs": [
    {
     "data": {
      "image/png": "[encoded data removed]",
      "text/plain": [
       "<Figure size 720x576 with 1 Axes>"
      ]
     },
     "metadata": {
      "needs_background": "light"
     },
     "output_type": "display_data"
    }
   ],
   "source": [
    "# Line plot \n",
    "figsize = (10, 8)\n",
    "ax = gender_world_data.plot(kind=\"line\", figsize = figsize)\n",
    "ax.grid(axis=\"y\")\n",
    "ax.set_title(\"Gender Parity Index across years\")\n",
    "ax.legend([\"Gender Parity Index\"])\n",
    "plt.show()"
   ]
  },
  {
   "cell_type": "code",
   "execution_count": 163,
   "metadata": {},
   "outputs": [],
   "source": [
    "# Economic Growth \n",
    "economic_growth_mask = df[\"Indicator Code\"] == economic_growth_indicator\n",
    "economic_growth_world_data = df[economic_growth_mask & world_mask][years].T"
   ]
  },
  {
   "cell_type": "code",
   "execution_count": 167,
   "metadata": {},
   "outputs": [
    {
     "data": {
      "image/png": "[encoded data removed]",
      "text/plain": [
       "<Figure size 720x576 with 1 Axes>"
      ]
     },
     "metadata": {
      "needs_background": "light"
     },
     "output_type": "display_data"
    }
   ],
   "source": [
    "# Line plot \n",
    "figsize = (10, 8)\n",
    "ax = economic_growth_world_data.plot(kind=\"line\", figsize = figsize)\n",
    "ax.grid(axis=\"y\")\n",
    "ax.set_title(\"Economic Growth across years\")\n",
    "ax.legend([\"Economic Growth over years\"])\n",
    "plt.show()"
   ]
  },
  {
   "cell_type": "code",
   "execution_count": 173,
   "metadata": {},
   "outputs": [],
   "source": [
    "# Education Distribution \n",
    "education_mask = df[\"Indicator Code\"] == education_indicator\n",
    "education_mask_mask_world_data = df[education_mask & world_mask][years].T"
   ]
  },
  {
   "cell_type": "code",
   "execution_count": 175,
   "metadata": {},
   "outputs": [
    {
     "data": {
      "image/png": "[encoded data removed]",
      "text/plain": [
       "<Figure size 720x576 with 1 Axes>"
      ]
     },
     "metadata": {
      "needs_background": "light"
     },
     "output_type": "display_data"
    }
   ],
   "source": [
    "# Line plot \n",
    "figsize = (10, 8)\n",
    "ax = education_mask_mask_world_data.plot(kind=\"line\", figsize = figsize)\n",
    "ax.grid(axis=\"y\")\n",
    "ax.set_title(\"Literacy across years\")\n",
    "ax.legend([\"Literacy over years\"])\n",
    "plt.show()"
   ]
  },
  {
   "cell_type": "code",
   "execution_count": null,
   "metadata": {},
   "outputs": [],
   "source": []
  }
 ],
 "metadata": {
  "kernelspec": {
   "display_name": "Python 3",
   "language": "python",
   "name": "python3"
  },
  "language_info": {
   "codemirror_mode": {
    "name": "ipython",
    "version": 3
   },
   "file_extension": ".py",
   "mimetype": "text/x-python",
   "name": "python",
   "nbconvert_exporter": "python",
   "pygments_lexer": "ipython3",
   "version": "3.7.6"
  }
 },
 "nbformat": 4,
 "nbformat_minor": 4
}
